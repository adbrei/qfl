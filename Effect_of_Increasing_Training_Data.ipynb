{
  "cells": [
    {
      "cell_type": "markdown",
      "metadata": {
        "id": "mFq2aRw_w3cL"
      },
      "source": [
        "##### Copyright 2020 The TensorFlow Quantum Authors."
      ]
    },
    {
      "cell_type": "code",
      "execution_count": null,
      "metadata": {
        "id": "eOzjTj_JxBnv"
      },
      "outputs": [],
      "source": [
        "#@title Licensed under the Apache License, Version 2.0 (the \"License\");\n",
        "# you may not use this file except in compliance with the License.\n",
        "# You may obtain a copy of the License at\n",
        "#\n",
        "# https://www.apache.org/licenses/LICENSE-2.0\n",
        "#\n",
        "# Unless required by applicable law or agreed to in writing, software\n",
        "# distributed under the License is distributed on an \"AS IS\" BASIS,\n",
        "# WITHOUT WARRANTIES OR CONDITIONS OF ANY KIND, either express or implied.\n",
        "# See the License for the specific language governing permissions and\n",
        "# limitations under the License."
      ]
    },
    {
      "cell_type": "markdown",
      "metadata": {
        "id": "Lusn46uoyCcv"
      },
      "source": [
        "[link text](https://)# Binary classification of quantum states\n",
        "\n",
        "Initial Tutorial Author : Antonio J. Martinez\n",
        "\n",
        "Initial Tutorial Contributors : Masoud Mohseni\n",
        "\n",
        "Initial Tutorial Created : 2020-Feb-14\n",
        "\n",
        "Initial Tutorial Last updated : 2020-Feb-29\n",
        "\n",
        "---\n",
        "\n",
        "Current Experiment Author : Anneliese Brei\n",
        "\n",
        "Current Experiment Created : 2022-Jan-3\n",
        "\n",
        "Current Experiment Last updated : 2022-Jan-3"
      ]
    },
    {
      "cell_type": "markdown",
      "metadata": {
        "id": "O8hXbFbkv_D_"
      },
      "source": [
        "[![Open In Colab](https://colab.research.google.com/assets/colab-badge.svg)](https://colab.research.google.com/github/tensorflow/quantum/blob/research/binary_classifier/binary_classifier.ipynb)"
      ]
    },
    {
      "cell_type": "markdown",
      "metadata": {
        "id": "2j5_tMNP12Mq"
      },
      "source": [
        "An elementary learning task is [binary classification](https://en.wikipedia.org/wiki/Binary_classification), a supervised task in which the learner is to distinguish which of two classes a given datapoint has been drawn from.  Here, using ideas from the paper [Universal discriminative quantum neural networks](https://arxiv.org/abs/1805.08654) in the one-qubit setting, we train a hybrid quantum-classical neural network to distinguish between quantum data sources."
      ]
    },
    {
      "cell_type": "markdown",
      "metadata": {
        "id": "IrWw_xv4fs44"
      },
      "source": [
        "## Import dependencies"
      ]
    },
    {
      "cell_type": "code",
      "execution_count": null,
      "metadata": {
        "id": "rFqxhKypZoSJ",
        "colab": {
          "base_uri": "https://localhost:8080/"
        },
        "outputId": "e16d563c-c9e0-445d-f715-58d38ba52663"
      },
      "outputs": [
        {
          "output_type": "stream",
          "name": "stdout",
          "text": [
            "Requirement already satisfied: tensorflow in /usr/local/lib/python3.7/dist-packages (2.8.0)\n",
            "Requirement already satisfied: libclang>=9.0.1 in /usr/local/lib/python3.7/dist-packages (from tensorflow) (13.0.0)\n",
            "Requirement already satisfied: flatbuffers>=1.12 in /usr/local/lib/python3.7/dist-packages (from tensorflow) (2.0)\n",
            "Requirement already satisfied: typing-extensions>=3.6.6 in /usr/local/lib/python3.7/dist-packages (from tensorflow) (3.10.0.0)\n",
            "Requirement already satisfied: keras<2.9,>=2.8.0rc0 in /usr/local/lib/python3.7/dist-packages (from tensorflow) (2.8.0)\n",
            "Requirement already satisfied: six>=1.12.0 in /usr/local/lib/python3.7/dist-packages (from tensorflow) (1.15.0)\n",
            "Requirement already satisfied: protobuf>=3.9.2 in /usr/local/lib/python3.7/dist-packages (from tensorflow) (3.17.3)\n",
            "Requirement already satisfied: tensorboard<2.9,>=2.8 in /usr/local/lib/python3.7/dist-packages (from tensorflow) (2.8.0)\n",
            "Requirement already satisfied: google-pasta>=0.1.1 in /usr/local/lib/python3.7/dist-packages (from tensorflow) (0.2.0)\n",
            "Requirement already satisfied: h5py>=2.9.0 in /usr/local/lib/python3.7/dist-packages (from tensorflow) (3.1.0)\n",
            "Requirement already satisfied: wrapt>=1.11.0 in /usr/local/lib/python3.7/dist-packages (from tensorflow) (1.13.3)\n",
            "Requirement already satisfied: opt-einsum>=2.3.2 in /usr/local/lib/python3.7/dist-packages (from tensorflow) (3.3.0)\n",
            "Requirement already satisfied: gast>=0.2.1 in /usr/local/lib/python3.7/dist-packages (from tensorflow) (0.5.3)\n",
            "Requirement already satisfied: absl-py>=0.4.0 in /usr/local/lib/python3.7/dist-packages (from tensorflow) (1.0.0)\n",
            "Requirement already satisfied: tf-estimator-nightly==2.8.0.dev2021122109 in /usr/local/lib/python3.7/dist-packages (from tensorflow) (2.8.0.dev2021122109)\n",
            "Requirement already satisfied: numpy>=1.20 in /usr/local/lib/python3.7/dist-packages (from tensorflow) (1.21.5)\n",
            "Requirement already satisfied: termcolor>=1.1.0 in /usr/local/lib/python3.7/dist-packages (from tensorflow) (1.1.0)\n",
            "Requirement already satisfied: setuptools in /usr/local/lib/python3.7/dist-packages (from tensorflow) (57.4.0)\n",
            "Requirement already satisfied: keras-preprocessing>=1.1.1 in /usr/local/lib/python3.7/dist-packages (from tensorflow) (1.1.2)\n",
            "Requirement already satisfied: astunparse>=1.6.0 in /usr/local/lib/python3.7/dist-packages (from tensorflow) (1.6.3)\n",
            "Requirement already satisfied: tensorflow-io-gcs-filesystem>=0.23.1 in /usr/local/lib/python3.7/dist-packages (from tensorflow) (0.24.0)\n",
            "Requirement already satisfied: grpcio<2.0,>=1.24.3 in /usr/local/lib/python3.7/dist-packages (from tensorflow) (1.44.0)\n",
            "Requirement already satisfied: wheel<1.0,>=0.23.0 in /usr/local/lib/python3.7/dist-packages (from astunparse>=1.6.0->tensorflow) (0.37.1)\n",
            "Requirement already satisfied: cached-property in /usr/local/lib/python3.7/dist-packages (from h5py>=2.9.0->tensorflow) (1.5.2)\n",
            "Requirement already satisfied: markdown>=2.6.8 in /usr/local/lib/python3.7/dist-packages (from tensorboard<2.9,>=2.8->tensorflow) (3.3.6)\n",
            "Requirement already satisfied: google-auth<3,>=1.6.3 in /usr/local/lib/python3.7/dist-packages (from tensorboard<2.9,>=2.8->tensorflow) (1.18.0)\n",
            "Requirement already satisfied: tensorboard-data-server<0.7.0,>=0.6.0 in /usr/local/lib/python3.7/dist-packages (from tensorboard<2.9,>=2.8->tensorflow) (0.6.1)\n",
            "Requirement already satisfied: requests<3,>=2.21.0 in /usr/local/lib/python3.7/dist-packages (from tensorboard<2.9,>=2.8->tensorflow) (2.23.0)\n",
            "Requirement already satisfied: werkzeug>=0.11.15 in /usr/local/lib/python3.7/dist-packages (from tensorboard<2.9,>=2.8->tensorflow) (1.0.1)\n",
            "Requirement already satisfied: google-auth-oauthlib<0.5,>=0.4.1 in /usr/local/lib/python3.7/dist-packages (from tensorboard<2.9,>=2.8->tensorflow) (0.4.6)\n",
            "Requirement already satisfied: tensorboard-plugin-wit>=1.6.0 in /usr/local/lib/python3.7/dist-packages (from tensorboard<2.9,>=2.8->tensorflow) (1.8.1)\n",
            "Requirement already satisfied: pyasn1-modules>=0.2.1 in /usr/local/lib/python3.7/dist-packages (from google-auth<3,>=1.6.3->tensorboard<2.9,>=2.8->tensorflow) (0.2.8)\n",
            "Requirement already satisfied: cachetools<5.0,>=2.0.0 in /usr/local/lib/python3.7/dist-packages (from google-auth<3,>=1.6.3->tensorboard<2.9,>=2.8->tensorflow) (4.2.4)\n",
            "Requirement already satisfied: rsa<5,>=3.1.4 in /usr/local/lib/python3.7/dist-packages (from google-auth<3,>=1.6.3->tensorboard<2.9,>=2.8->tensorflow) (4.8)\n",
            "Requirement already satisfied: requests-oauthlib>=0.7.0 in /usr/local/lib/python3.7/dist-packages (from google-auth-oauthlib<0.5,>=0.4.1->tensorboard<2.9,>=2.8->tensorflow) (1.3.1)\n",
            "Requirement already satisfied: importlib-metadata>=4.4 in /usr/local/lib/python3.7/dist-packages (from markdown>=2.6.8->tensorboard<2.9,>=2.8->tensorflow) (4.11.2)\n",
            "Requirement already satisfied: zipp>=0.5 in /usr/local/lib/python3.7/dist-packages (from importlib-metadata>=4.4->markdown>=2.6.8->tensorboard<2.9,>=2.8->tensorflow) (3.7.0)\n",
            "Requirement already satisfied: pyasn1<0.5.0,>=0.4.6 in /usr/local/lib/python3.7/dist-packages (from pyasn1-modules>=0.2.1->google-auth<3,>=1.6.3->tensorboard<2.9,>=2.8->tensorflow) (0.4.8)\n",
            "Requirement already satisfied: chardet<4,>=3.0.2 in /usr/local/lib/python3.7/dist-packages (from requests<3,>=2.21.0->tensorboard<2.9,>=2.8->tensorflow) (3.0.4)\n",
            "Requirement already satisfied: certifi>=2017.4.17 in /usr/local/lib/python3.7/dist-packages (from requests<3,>=2.21.0->tensorboard<2.9,>=2.8->tensorflow) (2021.10.8)\n",
            "Requirement already satisfied: urllib3!=1.25.0,!=1.25.1,<1.26,>=1.21.1 in /usr/local/lib/python3.7/dist-packages (from requests<3,>=2.21.0->tensorboard<2.9,>=2.8->tensorflow) (1.24.3)\n",
            "Requirement already satisfied: idna<3,>=2.5 in /usr/local/lib/python3.7/dist-packages (from requests<3,>=2.21.0->tensorboard<2.9,>=2.8->tensorflow) (2.10)\n",
            "Requirement already satisfied: oauthlib>=3.0.0 in /usr/local/lib/python3.7/dist-packages (from requests-oauthlib>=0.7.0->google-auth-oauthlib<0.5,>=0.4.1->tensorboard<2.9,>=2.8->tensorflow) (3.2.0)\n",
            "Requirement already satisfied: qutip in /usr/local/lib/python3.7/dist-packages (4.6.3)\n",
            "Requirement already satisfied: packaging in /usr/local/lib/python3.7/dist-packages (from qutip) (21.3)\n",
            "Requirement already satisfied: scipy>=1.0 in /usr/local/lib/python3.7/dist-packages (from qutip) (1.4.1)\n",
            "Requirement already satisfied: numpy>=1.16.6 in /usr/local/lib/python3.7/dist-packages (from qutip) (1.21.5)\n",
            "Requirement already satisfied: pyparsing!=3.0.5,>=2.0.2 in /usr/local/lib/python3.7/dist-packages (from packaging->qutip) (3.0.7)\n"
          ]
        }
      ],
      "source": [
        "!pip install --upgrade tensorflow\n",
        "!pip install qutip"
      ]
    },
    {
      "cell_type": "code",
      "execution_count": null,
      "metadata": {
        "id": "xcDb1zbSdXKi",
        "colab": {
          "base_uri": "https://localhost:8080/"
        },
        "outputId": "396d9694-ca93-48b6-b4c5-a4d9b36fcaac"
      },
      "outputs": [
        {
          "output_type": "stream",
          "name": "stdout",
          "text": [
            "Requirement already satisfied: tensorflow-quantum in /usr/local/lib/python3.7/dist-packages (0.6.1)\n",
            "Requirement already satisfied: cirq-core>=0.13.1 in /usr/local/lib/python3.7/dist-packages (from tensorflow-quantum) (0.13.1)\n",
            "Requirement already satisfied: sympy==1.8 in /usr/local/lib/python3.7/dist-packages (from tensorflow-quantum) (1.8)\n",
            "Requirement already satisfied: google-auth==1.18.0 in /usr/local/lib/python3.7/dist-packages (from tensorflow-quantum) (1.18.0)\n",
            "Requirement already satisfied: protobuf==3.17.3 in /usr/local/lib/python3.7/dist-packages (from tensorflow-quantum) (3.17.3)\n",
            "Requirement already satisfied: cirq-google>=0.13.1 in /usr/local/lib/python3.7/dist-packages (from tensorflow-quantum) (0.13.1)\n",
            "Requirement already satisfied: google-api-core==1.21.0 in /usr/local/lib/python3.7/dist-packages (from tensorflow-quantum) (1.21.0)\n",
            "Requirement already satisfied: googleapis-common-protos==1.52.0 in /usr/local/lib/python3.7/dist-packages (from tensorflow-quantum) (1.52.0)\n",
            "Requirement already satisfied: pytz in /usr/local/lib/python3.7/dist-packages (from google-api-core==1.21.0->tensorflow-quantum) (2018.9)\n",
            "Requirement already satisfied: requests<3.0.0dev,>=2.18.0 in /usr/local/lib/python3.7/dist-packages (from google-api-core==1.21.0->tensorflow-quantum) (2.23.0)\n",
            "Requirement already satisfied: six>=1.10.0 in /usr/local/lib/python3.7/dist-packages (from google-api-core==1.21.0->tensorflow-quantum) (1.15.0)\n",
            "Requirement already satisfied: setuptools>=34.0.0 in /usr/local/lib/python3.7/dist-packages (from google-api-core==1.21.0->tensorflow-quantum) (57.4.0)\n",
            "Requirement already satisfied: rsa<5,>=3.1.4 in /usr/local/lib/python3.7/dist-packages (from google-auth==1.18.0->tensorflow-quantum) (4.8)\n",
            "Requirement already satisfied: cachetools<5.0,>=2.0.0 in /usr/local/lib/python3.7/dist-packages (from google-auth==1.18.0->tensorflow-quantum) (4.2.4)\n",
            "Requirement already satisfied: pyasn1-modules>=0.2.1 in /usr/local/lib/python3.7/dist-packages (from google-auth==1.18.0->tensorflow-quantum) (0.2.8)\n",
            "Requirement already satisfied: mpmath>=0.19 in /usr/local/lib/python3.7/dist-packages (from sympy==1.8->tensorflow-quantum) (1.2.1)\n",
            "Requirement already satisfied: numpy~=1.16 in /usr/local/lib/python3.7/dist-packages (from cirq-core>=0.13.1->tensorflow-quantum) (1.21.5)\n",
            "Requirement already satisfied: matplotlib~=3.0 in /usr/local/lib/python3.7/dist-packages (from cirq-core>=0.13.1->tensorflow-quantum) (3.2.2)\n",
            "Requirement already satisfied: scipy in /usr/local/lib/python3.7/dist-packages (from cirq-core>=0.13.1->tensorflow-quantum) (1.4.1)\n",
            "Requirement already satisfied: tqdm in /usr/local/lib/python3.7/dist-packages (from cirq-core>=0.13.1->tensorflow-quantum) (4.63.0)\n",
            "Requirement already satisfied: networkx~=2.4 in /usr/local/lib/python3.7/dist-packages (from cirq-core>=0.13.1->tensorflow-quantum) (2.6.3)\n",
            "Requirement already satisfied: duet~=0.2.0 in /usr/local/lib/python3.7/dist-packages (from cirq-core>=0.13.1->tensorflow-quantum) (0.2.5)\n",
            "Requirement already satisfied: sortedcontainers~=2.0 in /usr/local/lib/python3.7/dist-packages (from cirq-core>=0.13.1->tensorflow-quantum) (2.4.0)\n",
            "Requirement already satisfied: pandas in /usr/local/lib/python3.7/dist-packages (from cirq-core>=0.13.1->tensorflow-quantum) (1.3.5)\n",
            "Requirement already satisfied: typing-extensions in /usr/local/lib/python3.7/dist-packages (from cirq-core>=0.13.1->tensorflow-quantum) (3.10.0.0)\n",
            "Requirement already satisfied: grpcio<2.0dev,>=1.29.0 in /usr/local/lib/python3.7/dist-packages (from google-api-core==1.21.0->tensorflow-quantum) (1.44.0)\n",
            "Requirement already satisfied: python-dateutil>=2.1 in /usr/local/lib/python3.7/dist-packages (from matplotlib~=3.0->cirq-core>=0.13.1->tensorflow-quantum) (2.8.2)\n",
            "Requirement already satisfied: pyparsing!=2.0.4,!=2.1.2,!=2.1.6,>=2.0.1 in /usr/local/lib/python3.7/dist-packages (from matplotlib~=3.0->cirq-core>=0.13.1->tensorflow-quantum) (3.0.7)\n",
            "Requirement already satisfied: cycler>=0.10 in /usr/local/lib/python3.7/dist-packages (from matplotlib~=3.0->cirq-core>=0.13.1->tensorflow-quantum) (0.11.0)\n",
            "Requirement already satisfied: kiwisolver>=1.0.1 in /usr/local/lib/python3.7/dist-packages (from matplotlib~=3.0->cirq-core>=0.13.1->tensorflow-quantum) (1.3.2)\n",
            "Requirement already satisfied: pyasn1<0.5.0,>=0.4.6 in /usr/local/lib/python3.7/dist-packages (from pyasn1-modules>=0.2.1->google-auth==1.18.0->tensorflow-quantum) (0.4.8)\n",
            "Requirement already satisfied: idna<3,>=2.5 in /usr/local/lib/python3.7/dist-packages (from requests<3.0.0dev,>=2.18.0->google-api-core==1.21.0->tensorflow-quantum) (2.10)\n",
            "Requirement already satisfied: chardet<4,>=3.0.2 in /usr/local/lib/python3.7/dist-packages (from requests<3.0.0dev,>=2.18.0->google-api-core==1.21.0->tensorflow-quantum) (3.0.4)\n",
            "Requirement already satisfied: urllib3!=1.25.0,!=1.25.1,<1.26,>=1.21.1 in /usr/local/lib/python3.7/dist-packages (from requests<3.0.0dev,>=2.18.0->google-api-core==1.21.0->tensorflow-quantum) (1.24.3)\n",
            "Requirement already satisfied: certifi>=2017.4.17 in /usr/local/lib/python3.7/dist-packages (from requests<3.0.0dev,>=2.18.0->google-api-core==1.21.0->tensorflow-quantum) (2021.10.8)\n"
          ]
        }
      ],
      "source": [
        "!pip install tensorflow-quantum"
      ]
    },
    {
      "cell_type": "code",
      "execution_count": null,
      "metadata": {
        "id": "kW2sb1rAfhwt"
      },
      "outputs": [],
      "source": [
        "import cirq\n",
        "import numpy as np\n",
        "import qutip\n",
        "import random\n",
        "import sympy\n",
        "import tensorflow as tf\n",
        "import tensorflow_quantum as tfq\n",
        "\n",
        "# visualization tools\n",
        "%matplotlib inline\n",
        "import matplotlib.pyplot as plt\n",
        "from cirq.contrib.svg import SVGCircuit"
      ]
    },
    {
      "cell_type": "markdown",
      "metadata": {
        "id": "Hd1mo09k1Dt3"
      },
      "source": [
        "## Quantum dataset\n",
        "For our quantum dataset, you will generate two blobs on the surface of the Bloch sphere.  The task will be to learn a model to distinguish members of these blobs.  To do this, you first select two axes in the X-Z plane of the block sphere, then select random points uniformly distributed around them:"
      ]
    },
    {
      "cell_type": "code",
      "execution_count": null,
      "metadata": {
        "id": "FUEawr8o1C2g"
      },
      "outputs": [],
      "source": [
        "def generate_dataset(qubit, theta_a, theta_b, num_samples):\n",
        "  \"\"\"Generate a dataset of points on `qubit` near the two given angles; labels\n",
        "  for the two clusters use a one-hot encoding.\n",
        "  \"\"\"\n",
        "  q_data = []\n",
        "  bloch = {\"a\": [[], [], []], \"b\": [[], [], []]}\n",
        "  labels = []\n",
        "  blob_size = abs(theta_a - theta_b) / 5\n",
        "  for _ in range(num_samples):\n",
        "    coin = random.random()\n",
        "    spread_x = np.random.uniform(-blob_size, blob_size)\n",
        "    spread_y = np.random.uniform(-blob_size, blob_size)\n",
        "    if coin < 0.5:\n",
        "      label = [1, 0]\n",
        "      angle = theta_a + spread_y\n",
        "      source = \"a\"\n",
        "    else:\n",
        "      label = [0, 1]\n",
        "      angle = theta_b + spread_y\n",
        "      source = \"b\"\n",
        "    labels.append(label)\n",
        "    q_data.append(cirq.Circuit(cirq.ry(-angle)(qubit), cirq.rx(-spread_x)(qubit)))\n",
        "    bloch[source][0].append(np.cos(angle))\n",
        "    bloch[source][1].append(np.sin(angle)*np.sin(spread_x))\n",
        "    bloch[source][2].append(np.sin(angle)*np.cos(spread_x))\n",
        "  return tfq.convert_to_tensor(q_data), np.array(labels), bloch"
      ]
    },
    {
      "cell_type": "code",
      "execution_count": null,
      "metadata": {
        "id": "YTOqrbFzgTq9"
      },
      "outputs": [],
      "source": [
        "def build_model(theta_a, theta_b):\n",
        "\n",
        "  qubit = cirq.GridQubit(0, 0)\n",
        "\n",
        "  # Build the quantum model layer 1\n",
        "  theta = sympy.Symbol('theta')\n",
        "  q_model = cirq.Circuit(cirq.ry(theta)(qubit))\n",
        "  q_data_input = tf.keras.Input(\n",
        "      shape=(), dtype=tf.dtypes.string)\n",
        "  expectation = tfq.layers.PQC(q_model, cirq.Z(qubit))\n",
        "  expectation_output = expectation(q_data_input)\n",
        "\n",
        "  # Attach the classical SoftMax classifier\n",
        "  classifier = tf.keras.layers.Dense(2, activation=tf.keras.activations.softmax)\n",
        "  classifier_output = classifier(expectation_output)\n",
        "  model = tf.keras.Model(inputs=q_data_input, outputs=classifier_output)\n",
        "\n",
        "  # Standard compilation for classification\n",
        "  model.compile(optimizer=tf.keras.optimizers.Adam(learning_rate=0.1),\n",
        "                loss=tf.keras.losses.CategoricalCrossentropy(),\n",
        "                metrics=['accuracy'])\n",
        "  \n",
        "  return model, qubit"
      ]
    },
    {
      "cell_type": "code",
      "execution_count": null,
      "metadata": {
        "id": "_oBfIyntWT_I"
      },
      "outputs": [],
      "source": [
        "# Constants\n",
        "theta_a = 1\n",
        "theta_b = 4\n",
        "num_samples = 500 # Number of datapoints for training and for testing\n",
        "iterations = 10\n",
        "num_epochs = 15"
      ]
    },
    {
      "cell_type": "markdown",
      "metadata": {
        "id": "5tx1fTPFh0yt"
      },
      "source": [
        "Test effect of increasing the number of samples for\n",
        "1. Training\n",
        "2. Testing"
      ]
    },
    {
      "cell_type": "code",
      "execution_count": null,
      "metadata": {
        "id": "TpA93xvDhmcJ"
      },
      "outputs": [],
      "source": [
        "def run_trial():\n",
        "\n",
        "  history_p = []\n",
        "\n",
        "  # Train with 250 datapoints\n",
        "  qubit = cirq.GridQubit(0, 0)\n",
        "  q_data, labels, _ = generate_dataset(qubit, theta_a, theta_b, 250)\n",
        "  model_250, _ = build_model(theta_a, theta_b)\n",
        "  history = model_250.fit(x=q_data, y=labels, epochs=1, verbose=0)\n",
        "  history_p.append(history.history['loss'][-1])\n",
        "\n",
        "  # Train with 500 datapoints\n",
        "  qubit = cirq.GridQubit(0, 0)\n",
        "  q_data, labels, _ = generate_dataset(qubit, theta_a, theta_b, 500)\n",
        "  model_500, _ = build_model(theta_a, theta_b)\n",
        "  history = model_500.fit(x=q_data, y=labels, epochs=1, verbose=0)\n",
        "  history_p.append(history.history['loss'][-1])\n",
        "\n",
        "  # Train with 1000 datapoints\n",
        "  qubit = cirq.GridQubit(0, 0)\n",
        "  q_data, labels, _ = generate_dataset(qubit, theta_a, theta_b, 1000)\n",
        "  model_1000, _ = build_model(theta_a, theta_b)\n",
        "  history = model_1000.fit(x=q_data, y=labels, epochs=1, verbose=0)\n",
        "  history_p.append(history.history['loss'][-1])\n",
        "\n",
        "  # Train with 2500 datapoints\n",
        "  qubit = cirq.GridQubit(0, 0)\n",
        "  q_data, labels, _ = generate_dataset(qubit, theta_a, theta_b, 2500)\n",
        "  model_2500, _ = build_model(theta_a, theta_b)\n",
        "  history = model_2500.fit(x=q_data, y=labels, epochs=1, verbose=0)\n",
        "  history_p.append(history.history['loss'][-1])\n",
        "\n",
        "  # Train with 5000 datapoints\n",
        "  qubit = cirq.GridQubit(0, 0)\n",
        "  q_data, labels, _ = generate_dataset(qubit, theta_a, theta_b, 5000)\n",
        "  model_5000, _ = build_model(theta_a, theta_b)\n",
        "  history = model_5000.fit(x=q_data, y=labels, epochs=1, verbose=0)\n",
        "  history_p.append(history.history['loss'][-1])\n",
        "\n",
        "  return history_p\n"
      ]
    },
    {
      "cell_type": "code",
      "source": [
        "trial1 = run_trial()\n",
        "trial2 = run_trial()\n",
        "trial3 = run_trial()\n",
        "trial4 = run_trial()\n",
        "trial5 = run_trial()\n",
        "trial6 = run_trial()\n",
        "trial7 = run_trial()\n",
        "trial8 = run_trial()\n",
        "trial9 = run_trial()\n",
        "trial10 = run_trial()\n",
        "\n",
        "print(trial1)\n",
        "print(trial2)\n",
        "print(trial3)\n",
        "print(trial4)\n",
        "print(trial5)\n",
        "print(trial6)\n",
        "print(trial7)\n",
        "print(trial8)\n",
        "print(trial9)\n",
        "print(trial10)"
      ],
      "metadata": {
        "colab": {
          "base_uri": "https://localhost:8080/"
        },
        "id": "iVuRg_Rz3hbH",
        "outputId": "b4e7d3ca-18ca-4bd3-a0ce-12da5178d4fa"
      },
      "execution_count": null,
      "outputs": [
        {
          "output_type": "stream",
          "name": "stdout",
          "text": [
            "[0.796583354473114, 0.4899729788303375, 0.4236915409564972, 0.12572377920150757, 0.03116297349333763]\n",
            "[0.1533435434103012, 0.6629505157470703, 0.18709762394428253, 0.21895138919353485, 0.028639599680900574]\n",
            "[0.34772586822509766, 0.7511314749717712, 0.16615690290927887, 0.13512764871120453, 0.009793916717171669]\n",
            "[0.3063710033893585, 0.7329695820808411, 0.28117936849594116, 0.11302819848060608, 0.06851477921009064]\n",
            "[0.23130153119564056, 0.4853506088256836, 0.06090562418103218, 0.05753123760223389, 0.05764543637633324]\n",
            "[0.43178248405456543, 0.17919570207595825, 0.7823801636695862, 0.08810203522443771, 0.14738912880420685]\n",
            "[0.4172082841396332, 0.7359139919281006, 0.18952737748622894, 0.18537798523902893, 0.03801374137401581]\n",
            "[1.015500545501709, 0.6107043027877808, 0.7447136640548706, 0.05645031854510307, 0.03916721045970917]\n",
            "[0.6897916197776794, 0.31915196776390076, 0.1412244290113449, 0.13427157700061798, 0.034638505429029465]\n",
            "[0.7566666603088379, 0.18187019228935242, 0.4282267391681671, 0.1139940544962883, 0.028251083567738533]\n"
          ]
        }
      ]
    },
    {
      "cell_type": "code",
      "source": [
        "average = []\n",
        "for i in range(len(trial1)):\n",
        "  average.append((trial1[i] + trial2[i] + trial3[i] + trial4[i] + trial5[i]\n",
        "                  + trial6[i] + trial7[i] + trial8[i] + trial9[i] + trial10[i]) / 10)\n",
        "\n",
        "print(average)"
      ],
      "metadata": {
        "colab": {
          "base_uri": "https://localhost:8080/"
        },
        "id": "Q26nFDFv5D2w",
        "outputId": "d8659bdd-9e3a-433b-8691-2ee9e9d4e958"
      },
      "execution_count": null,
      "outputs": [
        {
          "output_type": "stream",
          "name": "stdout",
          "text": [
            "[0.5146274894475937, 0.5149211317300797, 0.34051034338772296, 0.12285582236945629, 0.04832163751125336]\n"
          ]
        }
      ]
    },
    {
      "cell_type": "code",
      "source": [
        "fig = plt.figure()\n",
        "ax = fig.add_axes([0,0,1,1])\n",
        "labels = ['250', '500', '1000', '2500', '5000']\n",
        "ax.bar(labels,average)\n",
        "plt.title(\"Effect of Increasing Training Data\")\n",
        "plt.xlabel(\"Size of training data set\")\n",
        "plt.ylabel(\"Error in testing classification\")\n",
        "plt.show()"
      ],
      "metadata": {
        "colab": {
          "base_uri": "https://localhost:8080/",
          "height": 366
        },
        "id": "-7nS5eCQ8OKq",
        "outputId": "ee940a96-57c3-406e-e5c6-1bcf5731450a"
      },
      "execution_count": null,
      "outputs": [
        {
          "output_type": "display_data",
          "data": {
            "text/plain": [
              "<Figure size 432x288 with 1 Axes>"
            ],
            "image/png": "[encoded data removed]"
          },
          "metadata": {
            "needs_background": "light"
          }
        }
      ]
    },
    {
      "cell_type": "code",
      "source": [
        "plt.plot(average, label=\"training data points\")\n",
        "plt.title(\"Effect of Increasing Training Data\")\n",
        "plt.xlabel(\"Size of training data set\")\n",
        "plt.ylabel(\"Error in testing classification\")\n",
        "plt.show()"
      ],
      "metadata": {
        "colab": {
          "base_uri": "https://localhost:8080/",
          "height": 295
        },
        "id": "0TGUfWzQ1YCl",
        "outputId": "3d524c6f-f498-47c2-b85b-6553ccbac46b"
      },
      "execution_count": null,
      "outputs": [
        {
          "output_type": "display_data",
          "data": {
            "text/plain": [
              "<Figure size 432x288 with 1 Axes>"
            ],
            "image/png": "[encoded data removed]"
          },
          "metadata": {
            "needs_background": "light"
          }
        }
      ]
    }
  ],
  "metadata": {
    "colab": {
      "collapsed_sections": [],
      "name": "Effect_of_Increasing_Training_Data.ipynb",
      "provenance": []
    },
    "kernelspec": {
      "display_name": "Python 3",
      "name": "python3"
    }
  },
  "nbformat": 4,
  "nbformat_minor": 0
}
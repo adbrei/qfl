{
  "cells": [
    {
      "cell_type": "markdown",
      "metadata": {
        "id": "mFq2aRw_w3cL"
      },
      "source": [
        "##### Copyright 2020 The TensorFlow Quantum Authors."
      ]
    },
    {
      "cell_type": "code",
      "execution_count": null,
      "metadata": {
        "id": "eOzjTj_JxBnv"
      },
      "outputs": [],
      "source": [
        "#@title Licensed under the Apache License, Version 2.0 (the \"License\");\n",
        "# you may not use this file except in compliance with the License.\n",
        "# You may obtain a copy of the License at\n",
        "#\n",
        "# https://www.apache.org/licenses/LICENSE-2.0\n",
        "#\n",
        "# Unless required by applicable law or agreed to in writing, software\n",
        "# distributed under the License is distributed on an \"AS IS\" BASIS,\n",
        "# WITHOUT WARRANTIES OR CONDITIONS OF ANY KIND, either express or implied.\n",
        "# See the License for the specific language governing permissions and\n",
        "# limitations under the License."
      ]
    },
    {
      "cell_type": "markdown",
      "metadata": {
        "id": "Lusn46uoyCcv"
      },
      "source": [
        "[link text](https://)# Binary classification of quantum states\n",
        "\n",
        "Initial Tutorial Author : Antonio J. Martinez\n",
        "\n",
        "Initial Tutorial Contributors : Masoud Mohseni\n",
        "\n",
        "Initial Tutorial Created : 2020-Feb-14\n",
        "\n",
        "Initial Tutorial Last updated : 2020-Feb-29\n",
        "\n",
        "---\n",
        "\n",
        "Current Experiment Author : Anneliese Brei\n",
        "\n",
        "Current Experiment Created : 2022-Jan-3\n",
        "\n",
        "Current Experiment Last updated : 2022-Jan-3"
      ]
    },
    {
      "cell_type": "markdown",
      "metadata": {
        "id": "O8hXbFbkv_D_"
      },
      "source": [
        "[![Open In Colab](https://colab.research.google.com/assets/colab-badge.svg)](https://colab.research.google.com/github/tensorflow/quantum/blob/research/binary_classifier/binary_classifier.ipynb)"
      ]
    },
    {
      "cell_type": "markdown",
      "metadata": {
        "id": "2j5_tMNP12Mq"
      },
      "source": [
        "An elementary learning task is [binary classification](https://en.wikipedia.org/wiki/Binary_classification), a supervised task in which the learner is to distinguish which of two classes a given datapoint has been drawn from.  Here, using ideas from the paper [Universal discriminative quantum neural networks](https://arxiv.org/abs/1805.08654) in the one-qubit setting, we train a hybrid quantum-classical neural network to distinguish between quantum data sources."
      ]
    },
    {
      "cell_type": "markdown",
      "metadata": {
        "id": "IrWw_xv4fs44"
      },
      "source": [
        "## Import dependencies"
      ]
    },
    {
      "cell_type": "code",
      "execution_count": null,
      "metadata": {
        "id": "rFqxhKypZoSJ"
      },
      "outputs": [],
      "source": [
        "!pip install --upgrade tensorflow\n",
        "!pip install qutip"
      ]
    },
    {
      "cell_type": "code",
      "execution_count": null,
      "metadata": {
        "id": "xcDb1zbSdXKi"
      },
      "outputs": [],
      "source": [
        "!pip install tensorflow-quantum"
      ]
    },
    {
      "cell_type": "code",
      "execution_count": null,
      "metadata": {
        "id": "kW2sb1rAfhwt"
      },
      "outputs": [],
      "source": [
        "import cirq\n",
        "import numpy as np\n",
        "import qutip\n",
        "import random\n",
        "import sympy\n",
        "import tensorflow as tf\n",
        "import tensorflow_quantum as tfq\n",
        "\n",
        "# visualization tools\n",
        "%matplotlib inline\n",
        "import matplotlib.pyplot as plt\n",
        "from cirq.contrib.svg import SVGCircuit"
      ]
    },
    {
      "cell_type": "markdown",
      "metadata": {
        "id": "Hd1mo09k1Dt3"
      },
      "source": [
        "## Quantum dataset\n",
        "For our quantum dataset, you will generate two blobs on the surface of the Bloch sphere.  The task will be to learn a model to distinguish members of these blobs.  To do this, you first select two axes in the X-Z plane of the block sphere, then select random points uniformly distributed around them:"
      ]
    },
    {
      "cell_type": "code",
      "execution_count": null,
      "metadata": {
        "id": "FUEawr8o1C2g"
      },
      "outputs": [],
      "source": [
        "def generate_dataset(qubit, theta_a, theta_b, num_samples):\n",
        "  \"\"\"Generate a dataset of points on `qubit` near the two given angles; labels\n",
        "  for the two clusters use a one-hot encoding.\n",
        "  \"\"\"\n",
        "  q_data = []\n",
        "  bloch = {\"a\": [[], [], []], \"b\": [[], [], []]}\n",
        "  labels = []\n",
        "  blob_size = abs(theta_a - theta_b) / 5\n",
        "  for _ in range(num_samples):\n",
        "    coin = random.random()\n",
        "    spread_x = np.random.uniform(-blob_size, blob_size)\n",
        "    spread_y = np.random.uniform(-blob_size, blob_size)\n",
        "    if coin < 0.5:\n",
        "      label = [1, 0]\n",
        "      angle = theta_a + spread_y\n",
        "      source = \"a\"\n",
        "    else:\n",
        "      label = [0, 1]\n",
        "      angle = theta_b + spread_y\n",
        "      source = \"b\"\n",
        "    labels.append(label)\n",
        "    q_data.append(cirq.Circuit(cirq.ry(-angle)(qubit), cirq.rx(-spread_x)(qubit)))\n",
        "    bloch[source][0].append(np.cos(angle))\n",
        "    bloch[source][1].append(np.sin(angle)*np.sin(spread_x))\n",
        "    bloch[source][2].append(np.sin(angle)*np.cos(spread_x))\n",
        "  return tfq.convert_to_tensor(q_data), np.array(labels), bloch"
      ]
    },
    {
      "cell_type": "code",
      "execution_count": null,
      "metadata": {
        "id": "YTOqrbFzgTq9"
      },
      "outputs": [],
      "source": [
        "def build_model(theta_a, theta_b, num_samples):\n",
        "\n",
        "  qubit = cirq.GridQubit(0, 0)\n",
        "\n",
        "  # Build the quantum model layer 1\n",
        "  theta = sympy.Symbol('theta')\n",
        "  q_model = cirq.Circuit(cirq.ry(theta)(qubit))\n",
        "  q_data_input = tf.keras.Input(\n",
        "      shape=(), dtype=tf.dtypes.string)\n",
        "  expectation = tfq.layers.PQC(q_model, cirq.Z(qubit))\n",
        "  expectation_output = expectation(q_data_input)\n",
        "\n",
        "  # Attach the classical SoftMax classifier\n",
        "  classifier = tf.keras.layers.Dense(2, activation=tf.keras.activations.softmax)\n",
        "  classifier_output = classifier(expectation_output)\n",
        "  model = tf.keras.Model(inputs=q_data_input, outputs=classifier_output)\n",
        "\n",
        "  # Standard compilation for classification\n",
        "  model.compile(optimizer=tf.keras.optimizers.Adam(learning_rate=0.1),\n",
        "                loss=tf.keras.losses.CategoricalCrossentropy(),\n",
        "                metrics=['accuracy'])\n",
        "  \n",
        "  return model, qubit"
      ]
    },
    {
      "cell_type": "code",
      "execution_count": null,
      "metadata": {
        "id": "_oBfIyntWT_I"
      },
      "outputs": [],
      "source": [
        "# Constants\n",
        "theta_a = 1\n",
        "theta_b = 4\n",
        "num_samples = 500 # Number of datapoints for training and for testing\n",
        "iterations = 10\n",
        "num_epochs = 15"
      ]
    },
    {
      "cell_type": "markdown",
      "metadata": {
        "id": "5tx1fTPFh0yt"
      },
      "source": [
        "Test effect of increasing the number of samples for\n",
        "1. Training\n",
        "2. Testing"
      ]
    },
    {
      "cell_type": "code",
      "execution_count": null,
      "metadata": {
        "id": "TpA93xvDhmcJ"
      },
      "outputs": [],
      "source": [
        "#history_200 = []\n",
        "#history_300 = []\n",
        "#history_400 = []\n",
        "#history_500 = []\n",
        "\n",
        "#for i in range(5):\n",
        "\n",
        "  #qubit_200 = cirq.GridQubit(0, 0)\n",
        "  #model_200 = build_model(qubit_200, theta_a, theta_b, 200)\n",
        "\n",
        "  #q_data_200, labels_200, bloch_p_200 = generate_dataset(qubit_200, theta_a, theta_b, 200)\n",
        "  #history = model_200.fit(x=q_data_200, y=labels_200, epochs=1, verbose=0)\n",
        "  #print(\"history with 200 training data points :\", history.history['loss'])\n",
        "  #history_200.append(history.history['loss'][-1])\n",
        "\n",
        "  #qubit_300 = cirq.GridQubit(0, 0)\n",
        "  #model_300 = build_model(qubit_300, theta_a, theta_b, 300)\n",
        "  #q_data_300, labels_300, bloch_p_300 = generate_dataset(qubit_300, theta_a, theta_b, 300)\n",
        "  #history = model_300.fit(x=q_data_300, y=labels_300, epochs=1, verbose=0)\n",
        "  #print(\"history with 300 training data points :\", history.history['loss'])\n",
        "  #history_300.append(history.history['loss'][-1])\n",
        "\n",
        "#plt.plot(history_200, label=\"200 training data points\")\n",
        "#plt.plot(history_300, label=\"300 training data points\")\n",
        "#plt.title(\"Learning to classify quantum data\")\n",
        "#plt.xlabel(\"Size of training data set\")\n",
        "#plt.ylabel(\"Error in testing classification\")\n",
        "#plt.show()"
      ]
    },
    {
      "cell_type": "markdown",
      "metadata": {
        "id": "a0e3r9dyf6ge"
      },
      "source": [
        "## 1-Node Framework\n",
        "Implement Binary Classification in a federated learning framework using 1 (global) model run by 1 simulator."
      ]
    },
    {
      "cell_type": "code",
      "execution_count": null,
      "metadata": {
        "id": "u4kboBqeH9r_"
      },
      "outputs": [],
      "source": [
        "# Model 0 (Global)\n",
        "model0, qubit0 = build_model(theta_a, theta_b, num_samples)"
      ]
    },
    {
      "cell_type": "code",
      "execution_count": null,
      "metadata": {
        "colab": {
          "base_uri": "https://localhost:8080/"
        },
        "id": "J1hEavodgnSt",
        "outputId": "36b59cc5-9ec0-4fb2-83c7-b9e3a8256a1a"
      },
      "outputs": [
        {
          "output_type": "stream",
          "name": "stdout",
          "text": [
            "1/1 [==============================] - 0s 366ms/step - loss: 4.1929e-04 - accuracy: 1.0000\n",
            "1/1 [==============================] - 0s 79ms/step - loss: 1.6066e-04 - accuracy: 1.0000\n",
            "1/1 [==============================] - 0s 95ms/step - loss: 9.0223e-05 - accuracy: 1.0000\n",
            "1/1 [==============================] - 0s 58ms/step - loss: 6.0216e-05 - accuracy: 1.0000\n",
            "1/1 [==============================] - 0s 81ms/step - loss: 4.1872e-05 - accuracy: 1.0000\n",
            "1/1 [==============================] - 0s 107ms/step - loss: 2.9213e-05 - accuracy: 1.0000\n",
            "1/1 [==============================] - 0s 76ms/step - loss: 2.3234e-05 - accuracy: 1.0000\n",
            "1/1 [==============================] - 0s 111ms/step - loss: 1.7206e-05 - accuracy: 1.0000\n",
            "1/1 [==============================] - 0s 75ms/step - loss: 1.3702e-05 - accuracy: 1.0000\n",
            "1/1 [==============================] - 0s 89ms/step - loss: 1.2211e-05 - accuracy: 1.0000\n",
            "Loss: [0.00041929332655854523, 0.00016066155512817204, 9.022283484227955e-05, 6.0216334532015026e-05, 4.187168087810278e-05, 2.9212878871476278e-05, 2.3234078980749473e-05, 1.720566797303036e-05, 1.3701721400138922e-05, 1.2210669410706032e-05]\n",
            "Accuracy: [1.0, 1.0, 1.0, 1.0, 1.0, 1.0, 1.0, 1.0, 1.0, 1.0]\n"
          ]
        }
      ],
      "source": [
        "loss1 = []       # Loss value from each epoch\n",
        "accuracy1 = []   # Accuracy % of each epoch\n",
        "\n",
        "for round in range(iterations):\n",
        "\n",
        "  # Train initial global model\n",
        "  q_data0, labels0, bloch_p0 = generate_dataset(qubit0, theta_a, theta_b, num_samples)\n",
        "  history0 = model0.fit(x=q_data0, y=labels0, epochs=num_epochs, verbose=0)\n",
        "\n",
        "  # Test updated global model for metrics\n",
        "  qubit = cirq.GridQubit(0, 0)\n",
        "  test_data, test_labels, test_bloch_p = generate_dataset(qubit, theta_a, theta_b, 500)\n",
        "\n",
        "  #print(\"Evaluate global model on the testing data set\")\n",
        "  test_results = model0.evaluate(test_data,test_labels, batch_size=500)\n",
        "\n",
        "  loss1.append(test_results[0])        # Save loss value of each round\n",
        "  accuracy1.append(test_results[1])    # Save accuracy of each round\n",
        "\n",
        "print(\"Loss:\", loss1)\n",
        "print(\"Accuracy:\", accuracy1)"
      ]
    },
    {
      "cell_type": "markdown",
      "metadata": {
        "id": "G6UTLOpYlLIu"
      },
      "source": [
        "## 2-Node Framework\n",
        "Implement Binary Classification in a federated learning framework using 2 separate models run by 2 different simulators. Model 0 represents the global model. Models 1 is a client. The parameters are averaged and used to update the global model."
      ]
    },
    {
      "cell_type": "code",
      "execution_count": null,
      "metadata": {
        "id": "9xu_Wuy_Hq7I"
      },
      "outputs": [],
      "source": [
        "# Create 2-node framework: 1 global model, 1 client\n",
        "\n",
        "# Model 0 (Global)\n",
        "model0, qubit0 = build_model(theta_a, theta_b, num_samples)\n",
        "\n",
        "# Model 1 (client)\n",
        "model1, qubit1 = build_model(theta_a, theta_b, num_samples)\n",
        "\n",
        "# Train initial global model\n",
        "q_data0, labels0, bloch_p0 = generate_dataset(qubit0, theta_a, theta_b, num_samples)\n",
        "history0 = model0.fit(x=q_data0, y=labels0, epochs=num_epochs, verbose=0)"
      ]
    },
    {
      "cell_type": "code",
      "execution_count": null,
      "metadata": {
        "colab": {
          "base_uri": "https://localhost:8080/"
        },
        "id": "x5a9iurClio6",
        "outputId": "43570953-2060-4948-b84e-d412c7385b88"
      },
      "outputs": [
        {
          "output_type": "stream",
          "name": "stdout",
          "text": [
            "1/1 [==============================] - 0s 312ms/step - loss: 6.3676e-04 - accuracy: 1.0000\n",
            "1/1 [==============================] - 0s 79ms/step - loss: 3.5957e-04 - accuracy: 1.0000\n",
            "1/1 [==============================] - 0s 74ms/step - loss: 2.2336e-04 - accuracy: 1.0000\n",
            "1/1 [==============================] - 0s 105ms/step - loss: 1.5727e-04 - accuracy: 1.0000\n",
            "1/1 [==============================] - 0s 66ms/step - loss: 1.0778e-04 - accuracy: 1.0000\n",
            "1/1 [==============================] - 0s 85ms/step - loss: 8.2447e-05 - accuracy: 1.0000\n",
            "1/1 [==============================] - 0s 131ms/step - loss: 6.1821e-05 - accuracy: 1.0000\n",
            "1/1 [==============================] - 0s 95ms/step - loss: 5.2100e-05 - accuracy: 1.0000\n",
            "1/1 [==============================] - 0s 106ms/step - loss: 4.0685e-05 - accuracy: 1.0000\n",
            "1/1 [==============================] - 0s 79ms/step - loss: 3.2407e-05 - accuracy: 1.0000\n",
            "Loss: [0.0006367580499500036, 0.00035957369254902005, 0.00022335514950100332, 0.00015726777201052755, 0.00010778024443425238, 8.244735363405198e-05, 6.182093784445897e-05, 5.2100138418609276e-05, 4.068455382366665e-05, 3.240720252506435e-05]\n",
            "Accuracy: [1.0, 1.0, 1.0, 1.0, 1.0, 1.0, 1.0, 1.0, 1.0, 1.0]\n"
          ]
        }
      ],
      "source": [
        "loss2 = []       # Loss value from each iteration\n",
        "accuracy2 = []   # Accuracy % of each iteration\n",
        "\n",
        "for round in range(iterations):\n",
        "\n",
        "  # Generate new local data for client\n",
        "  q_data1, labels1, bloch_p1 = generate_dataset(qubit1, theta_a, theta_b, num_samples) \n",
        "\n",
        "  # Train client with local data\n",
        "  history1 = model1.fit(x=q_data1, y=labels1, epochs=num_epochs, verbose=0)\n",
        "\n",
        "  weights0 = model0.get_weights()   # Extract global weights (parameters)\n",
        "  weights1 = model1.get_weights()   # Extract client weights (parameters)\n",
        "\n",
        "  # Average weights\n",
        "  avg_weights = weights0\n",
        "  for j in range(len(weights0)):\n",
        "    avg_weights[j] = (weights0[j] + weights1[j]) / 2\n",
        "  #print(\"Averaged : \\nMA :\", avg_weights)  \n",
        "\n",
        "  # Update weights\n",
        "  model0.set_weights(avg_weights)\n",
        "  model1.set_weights(avg_weights)\n",
        "\n",
        "  # Test updated global model for metrics\n",
        "  qubit = cirq.GridQubit(0, 0)\n",
        "  test_data, test_labels, test_bloch_p = generate_dataset(qubit, theta_a, theta_b, 500)\n",
        "  #print(\"Evaluate global model on the testing data set\")\n",
        "  test_results = model0.evaluate(test_data,test_labels, batch_size=500)\n",
        "\n",
        "  loss2.append(test_results[0])        # Save loss value of each round\n",
        "  accuracy2.append(test_results[1])    # Save accuracy of each round\n",
        "\n",
        "print(\"Loss:\", loss2)\n",
        "print(\"Accuracy:\", accuracy2)"
      ]
    },
    {
      "cell_type": "markdown",
      "metadata": {
        "id": "0W-D3bcjfd-C"
      },
      "source": [
        "## 3-Node Framework\n",
        "Implement Binary Classification in a federated learning framework using 3 separate models run by 3 different simulators. Model 0 represents the global model. Models 1 and 2 are clients. The parameters are averaged and used to update the global model."
      ]
    },
    {
      "cell_type": "code",
      "execution_count": null,
      "metadata": {
        "id": "o9PljfGfIOdh"
      },
      "outputs": [],
      "source": [
        "# Create 3-node framework: 1 global model, 2 clients\n",
        "\n",
        "# Model 0 (Global)\n",
        "model0, qubit0 = build_model(theta_a, theta_b, num_samples)\n",
        "\n",
        "# Model 1 (client)\n",
        "model1, qubit1 = build_model(theta_a, theta_b, num_samples)\n",
        "\n",
        "# Model 2 (client)\n",
        "model2, qubit2 = build_model(theta_a, theta_b, num_samples)\n",
        "\n",
        "#print(model0.summary(), \"\\n\\n\")                              # Print model summary\n",
        "#tf.keras.utils.plot_model(model0, show_shapes=True, dpi=70)  # Display global model"
      ]
    },
    {
      "cell_type": "code",
      "execution_count": null,
      "metadata": {
        "id": "nz3-scS1IQrq"
      },
      "outputs": [],
      "source": [
        "# Train initial global model\n",
        "q_data0, labels0, bloch_p0 = generate_dataset(qubit0, theta_a, theta_b, num_samples)\n",
        "history0 = model0.fit(x=q_data0, y=labels0, epochs=num_epochs, verbose=0)\n",
        "#print(\"M1 :\", model1.get_weights())"
      ]
    },
    {
      "cell_type": "code",
      "execution_count": null,
      "metadata": {
        "colab": {
          "base_uri": "https://localhost:8080/"
        },
        "id": "XfAzDNnWgVC0",
        "outputId": "76b4771b-d6b6-421a-ba82-7504554167c6"
      },
      "outputs": [
        {
          "output_type": "stream",
          "name": "stdout",
          "text": [
            "1/1 [==============================] - 0s 301ms/step - loss: 0.3093 - accuracy: 0.9380\n",
            "1/1 [==============================] - 0s 90ms/step - loss: 0.0059 - accuracy: 1.0000\n",
            "1/1 [==============================] - 0s 74ms/step - loss: 9.6030e-04 - accuracy: 1.0000\n",
            "1/1 [==============================] - 0s 76ms/step - loss: 4.3442e-04 - accuracy: 1.0000\n",
            "1/1 [==============================] - 0s 75ms/step - loss: 2.6430e-04 - accuracy: 1.0000\n",
            "1/1 [==============================] - 0s 82ms/step - loss: 1.7666e-04 - accuracy: 1.0000\n",
            "1/1 [==============================] - 0s 90ms/step - loss: 1.3140e-04 - accuracy: 1.0000\n",
            "1/1 [==============================] - 0s 99ms/step - loss: 9.8145e-05 - accuracy: 1.0000\n",
            "1/1 [==============================] - 0s 94ms/step - loss: 8.1876e-05 - accuracy: 1.0000\n",
            "1/1 [==============================] - 0s 81ms/step - loss: 6.2617e-05 - accuracy: 1.0000\n",
            "Loss: [0.3092893660068512, 0.005939615424722433, 0.0009602959617041051, 0.00043442228343337774, 0.0002643026236910373, 0.0001766552886692807, 0.0001313993416260928, 9.814467921387404e-05, 8.187592175090685e-05, 6.261693488340825e-05]\n",
            "Accuracy: [0.9380000233650208, 1.0, 1.0, 1.0, 1.0, 1.0, 1.0, 1.0, 1.0, 1.0]\n"
          ]
        }
      ],
      "source": [
        "# Run models on QFL framework \n",
        "# For each epoch: \n",
        "#   1. Generate new data for clients\n",
        "#   2. Train client models on their new data\n",
        "#   3. Average parameters from client models and global model\n",
        "#   4. Update all models\n",
        "\n",
        "loss3 = []       # Loss value from each iteration\n",
        "accuracy3 = []   # Accuracy % of each iteration\n",
        "\n",
        "for round in range(iterations):\n",
        "\n",
        "  # Generate new local data for clients, D2 and D3\n",
        "  q_data1, labels1, bloch_p1 = generate_dataset(qubit1, theta_a, theta_b, num_samples) \n",
        "  q_data2, labels2, bloch_p2 = generate_dataset(qubit2, theta_a, theta_b, num_samples) \n",
        "\n",
        "  # Train clients with local data\n",
        "  history1 = model1.fit(x=q_data1, y=labels1, epochs=num_epochs, verbose=0)\n",
        "  history2 = model2.fit(x=q_data2, y=labels2, epochs=num_epochs, verbose=0)\n",
        "\n",
        "  weights0 = model0.get_weights()   # Extract global weights (parameters)\n",
        "  weights1 = model1.get_weights()   # Extract client weights (parameters)\n",
        "  weights2 = model2.get_weights()   # Extract client weights (parameters)\n",
        "\n",
        "  # Average weights\n",
        "  avg_weights = weights0\n",
        "  for j in range(len(weights0)):\n",
        "    avg_weights[j] = (weights0[j] + weights1[j] + weights2[j]) / 3\n",
        "  #print(\"Averaged : \\nMA :\", avg_weights)  \n",
        "\n",
        "  # Update weights\n",
        "  model0.set_weights(avg_weights)\n",
        "  model1.set_weights(avg_weights)\n",
        "  model2.set_weights(avg_weights)\n",
        "  #print(\"M0 :\", model0.get_weights())\n",
        "\n",
        "  # Test updated global model for metrics\n",
        "  qubit = cirq.GridQubit(0, 0)\n",
        "  test_data, test_labels, test_bloch_p = generate_dataset(qubit, theta_a, theta_b, 500)\n",
        "  #print(\"Evaluate global model on the testing data set\")\n",
        "  test_results = model0.evaluate(test_data,test_labels, batch_size=500)\n",
        "\n",
        "  loss3.append(test_results[0])        # Save loss value of each round\n",
        "  accuracy3.append(test_results[1])    # Save accuracy of each round\n",
        "\n",
        "print(\"Loss:\", loss3)\n",
        "print(\"Accuracy:\", accuracy3)"
      ]
    },
    {
      "cell_type": "markdown",
      "metadata": {
        "id": "kNs6hRg0uJBw"
      },
      "source": [
        "## 5-Node Framework\n",
        "Implement Binary Classification in a federated learning framework using 5 separate models run by 5 different simulators. Model 0 represents the global model. Models 1, 2, 3, 4 are clients. The parameters are averaged and used to update the global model."
      ]
    },
    {
      "cell_type": "code",
      "execution_count": null,
      "metadata": {
        "id": "yvFgY7YcIYgr"
      },
      "outputs": [],
      "source": [
        "# Create 5-node framework: 1 global model, 4 clients\n",
        "\n",
        "# Model 0 (Global)\n",
        "model0, qubit0 = build_model(theta_a, theta_b, num_samples)\n",
        "\n",
        "# Model 1 (client)\n",
        "model1, qubit1 = build_model(theta_a, theta_b, num_samples)\n",
        "\n",
        "# Model 2 (client)\n",
        "model2, qubit2 = build_model(theta_a, theta_b, num_samples)\n",
        "\n",
        "# Model 3 (client)\n",
        "model3, qubit3 = build_model(theta_a, theta_b, num_samples)\n",
        "\n",
        "# Model 4 (client)\n",
        "model4, qubit4 = build_model(theta_a, theta_b, num_samples)"
      ]
    },
    {
      "cell_type": "code",
      "execution_count": null,
      "metadata": {
        "id": "DTmc5qVsIatJ"
      },
      "outputs": [],
      "source": [
        "# Train initial global model\n",
        "q_data0, labels0, bloch_p0 = generate_dataset(qubit0, theta_a, theta_b, num_samples)\n",
        "history0 = model0.fit(x=q_data0, y=labels0, epochs=num_epochs, verbose=0)"
      ]
    },
    {
      "cell_type": "code",
      "execution_count": null,
      "metadata": {
        "colab": {
          "base_uri": "https://localhost:8080/"
        },
        "id": "1F4DH01qr_jg",
        "outputId": "8222aa84-9c7d-4c35-d5bb-90b623f04926"
      },
      "outputs": [
        {
          "output_type": "stream",
          "name": "stdout",
          "text": [
            "1/1 [==============================] - 0s 349ms/step - loss: 1.5261 - accuracy: 0.2700\n",
            "1/1 [==============================] - 0s 83ms/step - loss: 0.0034 - accuracy: 1.0000\n",
            "1/1 [==============================] - 0s 100ms/step - loss: 6.1797e-04 - accuracy: 1.0000\n",
            "1/1 [==============================] - 0s 88ms/step - loss: 3.3412e-04 - accuracy: 1.0000\n",
            "1/1 [==============================] - 0s 99ms/step - loss: 2.0866e-04 - accuracy: 1.0000\n",
            "1/1 [==============================] - 0s 103ms/step - loss: 1.4207e-04 - accuracy: 1.0000\n",
            "1/1 [==============================] - 0s 101ms/step - loss: 1.1509e-04 - accuracy: 1.0000\n",
            "1/1 [==============================] - 0s 89ms/step - loss: 9.0515e-05 - accuracy: 1.0000\n",
            "1/1 [==============================] - 0s 95ms/step - loss: 7.1302e-05 - accuracy: 1.0000\n",
            "1/1 [==============================] - 0s 100ms/step - loss: 5.7044e-05 - accuracy: 1.0000\n",
            "Loss: [1.526082158088684, 0.003351188264787197, 0.0006179666961543262, 0.00033411686308681965, 0.00020866132399532944, 0.0001420734915882349, 0.0001150905663962476, 9.051527740666643e-05, 7.130231824703515e-05, 5.704435534426011e-05]\n",
            "Accuracy: [0.27000001072883606, 1.0, 1.0, 1.0, 1.0, 1.0, 1.0, 1.0, 1.0, 1.0]\n"
          ]
        }
      ],
      "source": [
        "loss5 = []       # Loss value from each iteration\n",
        "accuracy5 = []   # Accuracy % of each iteration\n",
        "\n",
        "for round in range(iterations):\n",
        "\n",
        "  # Generate new local data for clients, D1, D2, D3, D4\n",
        "  q_data1, labels1, bloch_p1 = generate_dataset(qubit1, theta_a, theta_b, num_samples) \n",
        "  q_data2, labels2, bloch_p2 = generate_dataset(qubit2, theta_a, theta_b, num_samples) \n",
        "  q_data3, labels3, bloch_p3 = generate_dataset(qubit3, theta_a, theta_b, num_samples) \n",
        "  q_data4, labels4, bloch_p4 = generate_dataset(qubit4, theta_a, theta_b, num_samples) \n",
        "\n",
        "  # Train clients with local data\n",
        "  history1 = model1.fit(x=q_data1, y=labels1, epochs=num_epochs, verbose=0)\n",
        "  history2 = model2.fit(x=q_data2, y=labels2, epochs=num_epochs, verbose=0)\n",
        "  history3 = model3.fit(x=q_data3, y=labels3, epochs=num_epochs, verbose=0)\n",
        "  history4 = model4.fit(x=q_data4, y=labels4, epochs=num_epochs, verbose=0)\n",
        "\n",
        "  weights0 = model0.get_weights()   # Extract global weights (parameters)\n",
        "  weights1 = model1.get_weights()   # Extract client weights (parameters)\n",
        "  weights2 = model2.get_weights()   # Extract client weights (parameters)\n",
        "  weights3 = model3.get_weights()   # Extract client weights (parameters)\n",
        "  weights4 = model4.get_weights()   # Extract client weights (parameters)\n",
        "\n",
        "  # Average weights\n",
        "  avg_weights = weights0\n",
        "  for j in range(len(weights0)):\n",
        "    avg_weights[j] = (weights0[j] + weights1[j] + weights2[j] + weights3[j] + weights4[j]) / 5\n",
        "  #print(\"Averaged : \\nMA :\", avg_weights)  \n",
        "\n",
        "  # Update weights\n",
        "  model0.set_weights(avg_weights)\n",
        "  model1.set_weights(avg_weights)\n",
        "  model2.set_weights(avg_weights)\n",
        "  model3.set_weights(avg_weights)\n",
        "  model4.set_weights(avg_weights)\n",
        "  #print(\"M0 :\", model0.get_weights())\n",
        "  #print(\"M1 :\", model1.get_weights())\n",
        "  #print(\"M2 :\", model2.get_weights())\n",
        "\n",
        "  # Test updated global model for metrics\n",
        "  qubit = cirq.GridQubit(0, 0)\n",
        "  test_data, test_labels, test_bloch_p = generate_dataset(qubit, theta_a, theta_b, 500)\n",
        "  #print(\"Evaluate global model on the testing data set\")\n",
        "  test_results = model0.evaluate(test_data,test_labels, batch_size=500)\n",
        "\n",
        "  loss5.append(test_results[0])        # Save loss value of each round\n",
        "  accuracy5.append(test_results[1])    # Save accuracy of each round\n",
        "\n",
        "print(\"Loss:\", loss5)\n",
        "print(\"Accuracy:\", accuracy5)"
      ]
    },
    {
      "cell_type": "markdown",
      "metadata": {
        "id": "hlgJmNuOemsi"
      },
      "source": [
        "## 10-Node Framework\n",
        "Implement Binary Classification in a federated learning framework using 10 separate models run by 10 different simulators. Model 0 represents the global model. Models 1, 2, 3, 4, 5, 6, 7, 8, 9 are clients. The parameters are averaged and used to update the global model."
      ]
    },
    {
      "cell_type": "code",
      "execution_count": null,
      "metadata": {
        "id": "rxmJ9QCeIoyM"
      },
      "outputs": [],
      "source": [
        "# Create 10-node framework: 1 global model, 9 clients\n",
        "\n",
        "# Model 0 (Global)\n",
        "model0, qubit0 = build_model(theta_a, theta_b, num_samples)\n",
        "\n",
        "# Model 1 (client)\n",
        "model1, qubit1 = build_model(theta_a, theta_b, num_samples)\n",
        "\n",
        "# Model 2 (client)\n",
        "model2, qubit2 = build_model(theta_a, theta_b, num_samples)\n",
        "\n",
        "# Model 3 (client)\n",
        "model3, qubit3 = build_model(theta_a, theta_b, num_samples)\n",
        "\n",
        "# Model 4 (client)\n",
        "model4, qubit4 = build_model(theta_a, theta_b, num_samples)\n",
        "\n",
        "# Model 5 (Global)\n",
        "model5, qubit5 = build_model(theta_a, theta_b, num_samples)\n",
        "\n",
        "# Model 6 (client)\n",
        "model6, qubit6 = build_model(theta_a, theta_b, num_samples)\n",
        "\n",
        "# Model 7 (client)\n",
        "model7, qubit7 = build_model(theta_a, theta_b, num_samples)\n",
        "\n",
        "# Model 8 (client)\n",
        "model8, qubit8 = build_model(theta_a, theta_b, num_samples)\n",
        "\n",
        "# Model 9 (client)\n",
        "model9, qubit9 = build_model(theta_a, theta_b, num_samples)"
      ]
    },
    {
      "cell_type": "code",
      "execution_count": null,
      "metadata": {
        "id": "d5_T-t6pIrUH"
      },
      "outputs": [],
      "source": [
        "# Train initial global model\n",
        "q_data0, labels0, bloch_p0 = generate_dataset(qubit0, theta_a, theta_b, num_samples)\n",
        "history0 = model0.fit(x=q_data0, y=labels0, epochs=num_epochs, verbose=0)"
      ]
    },
    {
      "cell_type": "code",
      "execution_count": null,
      "metadata": {
        "colab": {
          "base_uri": "https://localhost:8080/"
        },
        "id": "BPVIqxysfBWv",
        "outputId": "9419e1f4-0e2f-48ae-ff86-b5093415b06b"
      },
      "outputs": [
        {
          "output_type": "stream",
          "name": "stdout",
          "text": [
            "1/1 [==============================] - 0s 290ms/step - loss: 0.2850 - accuracy: 1.0000\n",
            "1/1 [==============================] - 0s 76ms/step - loss: 0.0011 - accuracy: 1.0000\n",
            "1/1 [==============================] - 0s 75ms/step - loss: 4.7784e-04 - accuracy: 1.0000\n",
            "1/1 [==============================] - 0s 89ms/step - loss: 2.6858e-04 - accuracy: 1.0000\n",
            "1/1 [==============================] - 0s 80ms/step - loss: 1.7432e-04 - accuracy: 1.0000\n",
            "1/1 [==============================] - 0s 99ms/step - loss: 1.1922e-04 - accuracy: 1.0000\n",
            "1/1 [==============================] - 0s 106ms/step - loss: 8.9949e-05 - accuracy: 1.0000\n",
            "1/1 [==============================] - 0s 52ms/step - loss: 6.8993e-05 - accuracy: 1.0000\n",
            "1/1 [==============================] - 0s 54ms/step - loss: 5.0163e-05 - accuracy: 1.0000\n",
            "1/1 [==============================] - 0s 50ms/step - loss: 4.4396e-05 - accuracy: 1.0000\n",
            "Loss: [0.2849541902542114, 0.0010850058170035481, 0.00047784269554540515, 0.00026857617194764316, 0.00017431788728572428, 0.00011921949044335634, 8.994906966108829e-05, 6.899289292050526e-05, 5.0162932893726975e-05, 4.439588519744575e-05]\n",
            "Accuracy: [1.0, 1.0, 1.0, 1.0, 1.0, 1.0, 1.0, 1.0, 1.0, 1.0]\n"
          ]
        }
      ],
      "source": [
        "loss10 = []       # Loss value from each epoch\n",
        "accuracy10 = []   # Accuracy % of each epoch\n",
        "\n",
        "for round in range(iterations):\n",
        "\n",
        "  # Generate new local data for clients, D1, D2, D3, D4\n",
        "  q_data1, labels1, bloch_p1 = generate_dataset(qubit1, theta_a, theta_b, num_samples) \n",
        "  q_data2, labels2, bloch_p2 = generate_dataset(qubit2, theta_a, theta_b, num_samples) \n",
        "  q_data3, labels3, bloch_p3 = generate_dataset(qubit3, theta_a, theta_b, num_samples) \n",
        "  q_data4, labels4, bloch_p4 = generate_dataset(qubit4, theta_a, theta_b, num_samples) \n",
        "  q_data5, labels5, bloch_p5 = generate_dataset(qubit5, theta_a, theta_b, num_samples) \n",
        "  q_data6, labels6, bloch_p6 = generate_dataset(qubit6, theta_a, theta_b, num_samples) \n",
        "  q_data7, labels7, bloch_p7 = generate_dataset(qubit7, theta_a, theta_b, num_samples) \n",
        "  q_data8, labels8, bloch_p8 = generate_dataset(qubit8, theta_a, theta_b, num_samples)\n",
        "  q_data9, labels9, bloch_p9 = generate_dataset(qubit9, theta_a, theta_b, num_samples) \n",
        "\n",
        "  # Train clients with local data\n",
        "  history1 = model1.fit(x=q_data1, y=labels1, epochs=num_epochs, verbose=0)\n",
        "  history2 = model2.fit(x=q_data2, y=labels2, epochs=num_epochs, verbose=0)\n",
        "  history3 = model3.fit(x=q_data3, y=labels3, epochs=num_epochs, verbose=0)\n",
        "  history4 = model4.fit(x=q_data4, y=labels4, epochs=num_epochs, verbose=0)\n",
        "  history5 = model5.fit(x=q_data5, y=labels5, epochs=num_epochs, verbose=0)\n",
        "  history6 = model6.fit(x=q_data6, y=labels6, epochs=num_epochs, verbose=0)\n",
        "  history7 = model7.fit(x=q_data7, y=labels7, epochs=num_epochs, verbose=0)\n",
        "  history8 = model8.fit(x=q_data8, y=labels8, epochs=num_epochs, verbose=0)\n",
        "  history9 = model9.fit(x=q_data9, y=labels9, epochs=num_epochs, verbose=0)\n",
        "\n",
        "  weights0 = model0.get_weights()   # Extract global weights (parameters)\n",
        "  weights1 = model1.get_weights()   # Extract client weights (parameters)\n",
        "  weights2 = model2.get_weights()   # Extract client weights (parameters)\n",
        "  weights3 = model3.get_weights()   # Extract client weights (parameters)\n",
        "  weights4 = model4.get_weights()   # Extract client weights (parameters)\n",
        "  weights5 = model5.get_weights()   # Extract global weights (parameters)\n",
        "  weights6 = model6.get_weights()   # Extract client weights (parameters)\n",
        "  weights7 = model7.get_weights()   # Extract client weights (parameters)\n",
        "  weights8 = model8.get_weights()   # Extract client weights (parameters)\n",
        "  weights9 = model9.get_weights()   # Extract client weights (parameters)\n",
        "\n",
        "  # Average weights\n",
        "  avg_weights = weights0\n",
        "  for j in range(len(weights0)):\n",
        "    avg_weights[j] = (weights0[j] + weights1[j] + weights2[j] + weights3[j] \n",
        "                      + weights4[j] + weights5[j] + weights6[j] + weights7[j] \n",
        "                      + weights8[j] + weights9[j]) / 10\n",
        "  #print(\"Averaged : \\nMA :\", avg_weights)  \n",
        "\n",
        "  # Update weights\n",
        "  model0.set_weights(avg_weights)\n",
        "  model1.set_weights(avg_weights)\n",
        "  model2.set_weights(avg_weights)\n",
        "  model3.set_weights(avg_weights)\n",
        "  model4.set_weights(avg_weights)\n",
        "  model5.set_weights(avg_weights)\n",
        "  model6.set_weights(avg_weights)\n",
        "  model7.set_weights(avg_weights)\n",
        "  model8.set_weights(avg_weights)\n",
        "  model9.set_weights(avg_weights)\n",
        "\n",
        "  # Test updated global model for metrics\n",
        "  qubit = cirq.GridQubit(0, 0)\n",
        "  test_data, test_labels, test_bloch_p = generate_dataset(qubit, theta_a, theta_b, 500)\n",
        "  test_results = model0.evaluate(test_data,test_labels, batch_size=500)\n",
        "\n",
        "  loss10.append(test_results[0])        # Save loss value of each round\n",
        "  accuracy10.append(test_results[1])    # Save accuracy of each round\n",
        "\n",
        "print(\"Loss:\", loss10)\n",
        "print(\"Accuracy:\", accuracy10)"
      ]
    },
    {
      "cell_type": "markdown",
      "metadata": {
        "id": "M8fLmLvMqs1m"
      },
      "source": [
        "## Run frameworks"
      ]
    },
    {
      "cell_type": "code",
      "execution_count": null,
      "metadata": {
        "colab": {
          "base_uri": "https://localhost:8080/",
          "height": 295
        },
        "id": "eqh3YLYhthvB",
        "outputId": "f1c6675a-b96f-44b4-dc65-0c5a1553e7f7"
      },
      "outputs": [
        {
          "output_type": "display_data",
          "data": {
            "image/png": "[encoded data removed]",
            "text/plain": [
              "<Figure size 432x288 with 1 Axes>"
            ]
          },
          "metadata": {
            "needs_background": "light"
          }
        }
      ],
      "source": [
        "plt.plot(loss1, label=\"1 devices\")\n",
        "plt.plot(loss2, label=\"2 devices\")\n",
        "plt.plot(loss3, label=\"3 devices\")\n",
        "plt.plot(loss5, label=\"5 devices\")\n",
        "plt.plot(loss10, label=\"10 devices\")\n",
        "plt.xlabel(\"iterations\")\n",
        "plt.ylabel(\"loss value\")\n",
        "plt.legend()\n",
        "plt.title(\"Loss on training data\")\n",
        "plt.show()"
      ]
    },
    {
      "cell_type": "code",
      "execution_count": null,
      "metadata": {
        "colab": {
          "base_uri": "https://localhost:8080/",
          "height": 295
        },
        "id": "0P7og3t2tnpW",
        "outputId": "59f98425-fb5f-434a-87d6-66a9bf28beb6"
      },
      "outputs": [
        {
          "output_type": "display_data",
          "data": {
            "image/png": "[encoded data removed]",
            "text/plain": [
              "<Figure size 432x288 with 1 Axes>"
            ]
          },
          "metadata": {
            "needs_background": "light"
          }
        }
      ],
      "source": [
        "plt.plot(accuracy1, label=\"1 device\")\n",
        "plt.plot(accuracy2, label=\"2 devices\")\n",
        "plt.plot(accuracy3, label=\"3 devices\")\n",
        "plt.plot(accuracy5, label=\"5 devices\")\n",
        "plt.plot(accuracy10, label=\"10 devices\")\n",
        "plt.xlabel(\"iterations\")\n",
        "plt.ylabel(\"accuracy\")\n",
        "plt.legend()\n",
        "plt.title(\"accuracy on training data\")\n",
        "plt.show()"
      ]
    },
    {
      "cell_type": "code",
      "execution_count": null,
      "metadata": {
        "colab": {
          "base_uri": "https://localhost:8080/"
        },
        "id": "CdjgiKEOeTud",
        "outputId": "563c75a5-52b0-40b5-d926-88d01ef508f6"
      },
      "outputs": [
        {
          "output_type": "stream",
          "name": "stdout",
          "text": [
            "Loss 1 : [0.00041929332655854523, 0.00016066155512817204, 9.022283484227955e-05, 6.0216334532015026e-05, 4.187168087810278e-05, 2.9212878871476278e-05, 2.3234078980749473e-05, 1.720566797303036e-05, 1.3701721400138922e-05, 1.2210669410706032e-05]\n",
            "Loss 2 : [0.0006367580499500036, 0.00035957369254902005, 0.00022335514950100332, 0.00015726777201052755, 0.00010778024443425238, 8.244735363405198e-05, 6.182093784445897e-05, 5.2100138418609276e-05, 4.068455382366665e-05, 3.240720252506435e-05]\n",
            "Loss 3 : [0.3092893660068512, 0.005939615424722433, 0.0009602959617041051, 0.00043442228343337774, 0.0002643026236910373, 0.0001766552886692807, 0.0001313993416260928, 9.814467921387404e-05, 8.187592175090685e-05, 6.261693488340825e-05]\n",
            "Loss 5 : [1.526082158088684, 0.003351188264787197, 0.0006179666961543262, 0.00033411686308681965, 0.00020866132399532944, 0.0001420734915882349, 0.0001150905663962476, 9.051527740666643e-05, 7.130231824703515e-05, 5.704435534426011e-05]\n",
            "Loss 10: [0.2849541902542114, 0.0010850058170035481, 0.00047784269554540515, 0.00026857617194764316, 0.00017431788728572428, 0.00011921949044335634, 8.994906966108829e-05, 6.899289292050526e-05, 5.0162932893726975e-05, 4.439588519744575e-05]\n",
            "----------\n",
            "Accuracy 1 :  [1.0, 1.0, 1.0, 1.0, 1.0, 1.0, 1.0, 1.0, 1.0, 1.0]\n",
            "Accuracy 2 :  [1.0, 1.0, 1.0, 1.0, 1.0, 1.0, 1.0, 1.0, 1.0, 1.0]\n",
            "Accuracy 3 :  [0.9380000233650208, 1.0, 1.0, 1.0, 1.0, 1.0, 1.0, 1.0, 1.0, 1.0]\n",
            "Accuracy 5 :  [0.27000001072883606, 1.0, 1.0, 1.0, 1.0, 1.0, 1.0, 1.0, 1.0, 1.0]\n",
            "Accuracy 10:  [1.0, 1.0, 1.0, 1.0, 1.0, 1.0, 1.0, 1.0, 1.0, 1.0]\n"
          ]
        }
      ],
      "source": [
        "print(\"Loss 1 :\", loss1)\n",
        "print(\"Loss 2 :\", loss2)\n",
        "print(\"Loss 3 :\", loss3)\n",
        "print(\"Loss 5 :\", loss5)\n",
        "print(\"Loss 10:\", loss10)\n",
        "print(\"-\"*10)\n",
        "print(\"Accuracy 1 : \", accuracy1)\n",
        "print(\"Accuracy 2 : \", accuracy2)\n",
        "print(\"Accuracy 3 : \", accuracy3)\n",
        "print(\"Accuracy 5 : \", accuracy5)\n",
        "print(\"Accuracy 10: \", accuracy10)"
      ]
    },
    {
      "cell_type": "code",
      "execution_count": null,
      "metadata": {
        "id": "kV2-_gbKdYCd"
      },
      "outputs": [],
      "source": [
        ""
      ]
    }
  ],
  "metadata": {
    "colab": {
      "collapsed_sections": [],
      "name": "3-Node-Framework.ipynb",
      "provenance": []
    },
    "kernelspec": {
      "display_name": "Python 3",
      "name": "python3"
    }
  },
  "nbformat": 4,
  "nbformat_minor": 0
}
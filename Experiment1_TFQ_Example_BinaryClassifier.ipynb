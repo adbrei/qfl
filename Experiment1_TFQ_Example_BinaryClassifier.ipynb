{
  "cells": [
    {
      "cell_type": "markdown",
      "metadata": {
        "id": "mFq2aRw_w3cL"
      },
      "source": [
        "##### Copyright 2020 The TensorFlow Quantum Authors."
      ]
    },
    {
      "cell_type": "code",
      "execution_count": null,
      "metadata": {
        "id": "eOzjTj_JxBnv"
      },
      "outputs": [],
      "source": [
        "#@title Licensed under the Apache License, Version 2.0 (the \"License\");\n",
        "# you may not use this file except in compliance with the License.\n",
        "# You may obtain a copy of the License at\n",
        "#\n",
        "# https://www.apache.org/licenses/LICENSE-2.0\n",
        "#\n",
        "# Unless required by applicable law or agreed to in writing, software\n",
        "# distributed under the License is distributed on an \"AS IS\" BASIS,\n",
        "# WITHOUT WARRANTIES OR CONDITIONS OF ANY KIND, either express or implied.\n",
        "# See the License for the specific language governing permissions and\n",
        "# limitations under the License."
      ]
    },
    {
      "cell_type": "markdown",
      "metadata": {
        "id": "Lusn46uoyCcv"
      },
      "source": [
        "[link text](https://)# Binary classification of quantum states\n",
        "\n",
        "Initial Tutorial Author : Antonio J. Martinez\n",
        "\n",
        "Initial Tutorial Contributors : Masoud Mohseni\n",
        "\n",
        "Initial Tutorial Created : 2020-Feb-14\n",
        "\n",
        "Initial Tutorial Last updated : 2020-Feb-29\n",
        "\n",
        "---\n",
        "\n",
        "Current Experiment Author : Anneliese Brei\n",
        "\n",
        "Current Experiment Created : 2022-Jan-3\n",
        "\n",
        "Current Experiment Last updated : 2022-Jan-3"
      ]
    },
    {
      "cell_type": "markdown",
      "metadata": {
        "id": "O8hXbFbkv_D_"
      },
      "source": [
        "[![Open In Colab](https://colab.research.google.com/assets/colab-badge.svg)](https://colab.research.google.com/github/tensorflow/quantum/blob/research/binary_classifier/binary_classifier.ipynb)"
      ]
    },
    {
      "cell_type": "markdown",
      "metadata": {
        "id": "2j5_tMNP12Mq"
      },
      "source": [
        "An elementary learning task is [binary classification](https://en.wikipedia.org/wiki/Binary_classification), a supervised task in which the learner is to distinguish which of two classes a given datapoint has been drawn from.  Here, using ideas from the paper [Universal discriminative quantum neural networks](https://arxiv.org/abs/1805.08654) in the one-qubit setting, we train a hybrid quantum-classical neural network to distinguish between quantum data sources."
      ]
    },
    {
      "cell_type": "markdown",
      "metadata": {
        "id": "IrWw_xv4fs44"
      },
      "source": [
        "## Import dependencies"
      ]
    },
    {
      "cell_type": "code",
      "execution_count": null,
      "metadata": {
        "colab": {
          "base_uri": "https://localhost:8080/"
        },
        "id": "rFqxhKypZoSJ",
        "outputId": "66dd7b3b-8e8c-4f74-8603-7cedab77e840"
      },
      "outputs": [
        {
          "name": "stdout",
          "output_type": "stream",
          "text": [
            "Requirement already satisfied: tensorflow in /usr/local/lib/python3.7/dist-packages (2.8.0)\n",
            "Requirement already satisfied: setuptools in /usr/local/lib/python3.7/dist-packages (from tensorflow) (57.4.0)\n",
            "Requirement already satisfied: grpcio<2.0,>=1.24.3 in /usr/local/lib/python3.7/dist-packages (from tensorflow) (1.44.0)\n",
            "Requirement already satisfied: astunparse>=1.6.0 in /usr/local/lib/python3.7/dist-packages (from tensorflow) (1.6.3)\n",
            "Requirement already satisfied: libclang>=9.0.1 in /usr/local/lib/python3.7/dist-packages (from tensorflow) (13.0.0)\n",
            "Requirement already satisfied: tensorboard<2.9,>=2.8 in /usr/local/lib/python3.7/dist-packages (from tensorflow) (2.8.0)\n",
            "Requirement already satisfied: typing-extensions>=3.6.6 in /usr/local/lib/python3.7/dist-packages (from tensorflow) (3.10.0.0)\n",
            "Requirement already satisfied: tensorflow-io-gcs-filesystem>=0.23.1 in /usr/local/lib/python3.7/dist-packages (from tensorflow) (0.24.0)\n",
            "Requirement already satisfied: opt-einsum>=2.3.2 in /usr/local/lib/python3.7/dist-packages (from tensorflow) (3.3.0)\n",
            "Requirement already satisfied: keras-preprocessing>=1.1.1 in /usr/local/lib/python3.7/dist-packages (from tensorflow) (1.1.2)\n",
            "Requirement already satisfied: absl-py>=0.4.0 in /usr/local/lib/python3.7/dist-packages (from tensorflow) (1.0.0)\n",
            "Requirement already satisfied: h5py>=2.9.0 in /usr/local/lib/python3.7/dist-packages (from tensorflow) (3.1.0)\n",
            "Requirement already satisfied: six>=1.12.0 in /usr/local/lib/python3.7/dist-packages (from tensorflow) (1.15.0)\n",
            "Requirement already satisfied: termcolor>=1.1.0 in /usr/local/lib/python3.7/dist-packages (from tensorflow) (1.1.0)\n",
            "Requirement already satisfied: gast>=0.2.1 in /usr/local/lib/python3.7/dist-packages (from tensorflow) (0.5.3)\n",
            "Requirement already satisfied: numpy>=1.20 in /usr/local/lib/python3.7/dist-packages (from tensorflow) (1.21.5)\n",
            "Requirement already satisfied: wrapt>=1.11.0 in /usr/local/lib/python3.7/dist-packages (from tensorflow) (1.13.3)\n",
            "Requirement already satisfied: tf-estimator-nightly==2.8.0.dev2021122109 in /usr/local/lib/python3.7/dist-packages (from tensorflow) (2.8.0.dev2021122109)\n",
            "Requirement already satisfied: keras<2.9,>=2.8.0rc0 in /usr/local/lib/python3.7/dist-packages (from tensorflow) (2.8.0)\n",
            "Requirement already satisfied: google-pasta>=0.1.1 in /usr/local/lib/python3.7/dist-packages (from tensorflow) (0.2.0)\n",
            "Requirement already satisfied: flatbuffers>=1.12 in /usr/local/lib/python3.7/dist-packages (from tensorflow) (2.0)\n",
            "Requirement already satisfied: protobuf>=3.9.2 in /usr/local/lib/python3.7/dist-packages (from tensorflow) (3.17.3)\n",
            "Requirement already satisfied: wheel<1.0,>=0.23.0 in /usr/local/lib/python3.7/dist-packages (from astunparse>=1.6.0->tensorflow) (0.37.1)\n",
            "Requirement already satisfied: cached-property in /usr/local/lib/python3.7/dist-packages (from h5py>=2.9.0->tensorflow) (1.5.2)\n",
            "Requirement already satisfied: google-auth-oauthlib<0.5,>=0.4.1 in /usr/local/lib/python3.7/dist-packages (from tensorboard<2.9,>=2.8->tensorflow) (0.4.6)\n",
            "Requirement already satisfied: tensorboard-data-server<0.7.0,>=0.6.0 in /usr/local/lib/python3.7/dist-packages (from tensorboard<2.9,>=2.8->tensorflow) (0.6.1)\n",
            "Requirement already satisfied: markdown>=2.6.8 in /usr/local/lib/python3.7/dist-packages (from tensorboard<2.9,>=2.8->tensorflow) (3.3.6)\n",
            "Requirement already satisfied: tensorboard-plugin-wit>=1.6.0 in /usr/local/lib/python3.7/dist-packages (from tensorboard<2.9,>=2.8->tensorflow) (1.8.1)\n",
            "Requirement already satisfied: werkzeug>=0.11.15 in /usr/local/lib/python3.7/dist-packages (from tensorboard<2.9,>=2.8->tensorflow) (1.0.1)\n",
            "Requirement already satisfied: requests<3,>=2.21.0 in /usr/local/lib/python3.7/dist-packages (from tensorboard<2.9,>=2.8->tensorflow) (2.23.0)\n",
            "Requirement already satisfied: google-auth<3,>=1.6.3 in /usr/local/lib/python3.7/dist-packages (from tensorboard<2.9,>=2.8->tensorflow) (1.18.0)\n",
            "Requirement already satisfied: cachetools<5.0,>=2.0.0 in /usr/local/lib/python3.7/dist-packages (from google-auth<3,>=1.6.3->tensorboard<2.9,>=2.8->tensorflow) (4.2.4)\n",
            "Requirement already satisfied: pyasn1-modules>=0.2.1 in /usr/local/lib/python3.7/dist-packages (from google-auth<3,>=1.6.3->tensorboard<2.9,>=2.8->tensorflow) (0.2.8)\n",
            "Requirement already satisfied: rsa<5,>=3.1.4 in /usr/local/lib/python3.7/dist-packages (from google-auth<3,>=1.6.3->tensorboard<2.9,>=2.8->tensorflow) (4.8)\n",
            "Requirement already satisfied: requests-oauthlib>=0.7.0 in /usr/local/lib/python3.7/dist-packages (from google-auth-oauthlib<0.5,>=0.4.1->tensorboard<2.9,>=2.8->tensorflow) (1.3.1)\n",
            "Requirement already satisfied: importlib-metadata>=4.4 in /usr/local/lib/python3.7/dist-packages (from markdown>=2.6.8->tensorboard<2.9,>=2.8->tensorflow) (4.11.2)\n",
            "Requirement already satisfied: zipp>=0.5 in /usr/local/lib/python3.7/dist-packages (from importlib-metadata>=4.4->markdown>=2.6.8->tensorboard<2.9,>=2.8->tensorflow) (3.7.0)\n",
            "Requirement already satisfied: pyasn1<0.5.0,>=0.4.6 in /usr/local/lib/python3.7/dist-packages (from pyasn1-modules>=0.2.1->google-auth<3,>=1.6.3->tensorboard<2.9,>=2.8->tensorflow) (0.4.8)\n",
            "Requirement already satisfied: certifi>=2017.4.17 in /usr/local/lib/python3.7/dist-packages (from requests<3,>=2.21.0->tensorboard<2.9,>=2.8->tensorflow) (2021.10.8)\n",
            "Requirement already satisfied: chardet<4,>=3.0.2 in /usr/local/lib/python3.7/dist-packages (from requests<3,>=2.21.0->tensorboard<2.9,>=2.8->tensorflow) (3.0.4)\n",
            "Requirement already satisfied: urllib3!=1.25.0,!=1.25.1,<1.26,>=1.21.1 in /usr/local/lib/python3.7/dist-packages (from requests<3,>=2.21.0->tensorboard<2.9,>=2.8->tensorflow) (1.24.3)\n",
            "Requirement already satisfied: idna<3,>=2.5 in /usr/local/lib/python3.7/dist-packages (from requests<3,>=2.21.0->tensorboard<2.9,>=2.8->tensorflow) (2.10)\n",
            "Requirement already satisfied: oauthlib>=3.0.0 in /usr/local/lib/python3.7/dist-packages (from requests-oauthlib>=0.7.0->google-auth-oauthlib<0.5,>=0.4.1->tensorboard<2.9,>=2.8->tensorflow) (3.2.0)\n",
            "Requirement already satisfied: qutip in /usr/local/lib/python3.7/dist-packages (4.6.3)\n",
            "Requirement already satisfied: scipy>=1.0 in /usr/local/lib/python3.7/dist-packages (from qutip) (1.4.1)\n",
            "Requirement already satisfied: packaging in /usr/local/lib/python3.7/dist-packages (from qutip) (21.3)\n",
            "Requirement already satisfied: numpy>=1.16.6 in /usr/local/lib/python3.7/dist-packages (from qutip) (1.21.5)\n",
            "Requirement already satisfied: pyparsing!=3.0.5,>=2.0.2 in /usr/local/lib/python3.7/dist-packages (from packaging->qutip) (3.0.7)\n"
          ]
        }
      ],
      "source": [
        "!pip install --upgrade tensorflow\n",
        "!pip install qutip"
      ]
    },
    {
      "cell_type": "code",
      "execution_count": null,
      "metadata": {
        "colab": {
          "base_uri": "https://localhost:8080/"
        },
        "id": "xcDb1zbSdXKi",
        "outputId": "8ff0bae7-6652-4322-b9f9-84f0f98e360a"
      },
      "outputs": [
        {
          "name": "stdout",
          "output_type": "stream",
          "text": [
            "Requirement already satisfied: tensorflow-quantum in /usr/local/lib/python3.7/dist-packages (0.6.1)\n",
            "Requirement already satisfied: googleapis-common-protos==1.52.0 in /usr/local/lib/python3.7/dist-packages (from tensorflow-quantum) (1.52.0)\n",
            "Requirement already satisfied: google-api-core==1.21.0 in /usr/local/lib/python3.7/dist-packages (from tensorflow-quantum) (1.21.0)\n",
            "Requirement already satisfied: google-auth==1.18.0 in /usr/local/lib/python3.7/dist-packages (from tensorflow-quantum) (1.18.0)\n",
            "Requirement already satisfied: protobuf==3.17.3 in /usr/local/lib/python3.7/dist-packages (from tensorflow-quantum) (3.17.3)\n",
            "Requirement already satisfied: sympy==1.8 in /usr/local/lib/python3.7/dist-packages (from tensorflow-quantum) (1.8)\n",
            "Requirement already satisfied: cirq-core>=0.13.1 in /usr/local/lib/python3.7/dist-packages (from tensorflow-quantum) (0.13.1)\n",
            "Requirement already satisfied: cirq-google>=0.13.1 in /usr/local/lib/python3.7/dist-packages (from tensorflow-quantum) (0.13.1)\n",
            "Requirement already satisfied: requests<3.0.0dev,>=2.18.0 in /usr/local/lib/python3.7/dist-packages (from google-api-core==1.21.0->tensorflow-quantum) (2.23.0)\n",
            "Requirement already satisfied: setuptools>=34.0.0 in /usr/local/lib/python3.7/dist-packages (from google-api-core==1.21.0->tensorflow-quantum) (57.4.0)\n",
            "Requirement already satisfied: pytz in /usr/local/lib/python3.7/dist-packages (from google-api-core==1.21.0->tensorflow-quantum) (2018.9)\n",
            "Requirement already satisfied: six>=1.10.0 in /usr/local/lib/python3.7/dist-packages (from google-api-core==1.21.0->tensorflow-quantum) (1.15.0)\n",
            "Requirement already satisfied: rsa<5,>=3.1.4 in /usr/local/lib/python3.7/dist-packages (from google-auth==1.18.0->tensorflow-quantum) (4.8)\n",
            "Requirement already satisfied: pyasn1-modules>=0.2.1 in /usr/local/lib/python3.7/dist-packages (from google-auth==1.18.0->tensorflow-quantum) (0.2.8)\n",
            "Requirement already satisfied: cachetools<5.0,>=2.0.0 in /usr/local/lib/python3.7/dist-packages (from google-auth==1.18.0->tensorflow-quantum) (4.2.4)\n",
            "Requirement already satisfied: mpmath>=0.19 in /usr/local/lib/python3.7/dist-packages (from sympy==1.8->tensorflow-quantum) (1.2.1)\n",
            "Requirement already satisfied: numpy~=1.16 in /usr/local/lib/python3.7/dist-packages (from cirq-core>=0.13.1->tensorflow-quantum) (1.21.5)\n",
            "Requirement already satisfied: typing-extensions in /usr/local/lib/python3.7/dist-packages (from cirq-core>=0.13.1->tensorflow-quantum) (3.10.0.0)\n",
            "Requirement already satisfied: networkx~=2.4 in /usr/local/lib/python3.7/dist-packages (from cirq-core>=0.13.1->tensorflow-quantum) (2.6.3)\n",
            "Requirement already satisfied: tqdm in /usr/local/lib/python3.7/dist-packages (from cirq-core>=0.13.1->tensorflow-quantum) (4.63.0)\n",
            "Requirement already satisfied: sortedcontainers~=2.0 in /usr/local/lib/python3.7/dist-packages (from cirq-core>=0.13.1->tensorflow-quantum) (2.4.0)\n",
            "Requirement already satisfied: pandas in /usr/local/lib/python3.7/dist-packages (from cirq-core>=0.13.1->tensorflow-quantum) (1.3.5)\n",
            "Requirement already satisfied: matplotlib~=3.0 in /usr/local/lib/python3.7/dist-packages (from cirq-core>=0.13.1->tensorflow-quantum) (3.2.2)\n",
            "Requirement already satisfied: duet~=0.2.0 in /usr/local/lib/python3.7/dist-packages (from cirq-core>=0.13.1->tensorflow-quantum) (0.2.5)\n",
            "Requirement already satisfied: scipy in /usr/local/lib/python3.7/dist-packages (from cirq-core>=0.13.1->tensorflow-quantum) (1.4.1)\n",
            "Requirement already satisfied: grpcio<2.0dev,>=1.29.0 in /usr/local/lib/python3.7/dist-packages (from google-api-core==1.21.0->tensorflow-quantum) (1.44.0)\n",
            "Requirement already satisfied: cycler>=0.10 in /usr/local/lib/python3.7/dist-packages (from matplotlib~=3.0->cirq-core>=0.13.1->tensorflow-quantum) (0.11.0)\n",
            "Requirement already satisfied: kiwisolver>=1.0.1 in /usr/local/lib/python3.7/dist-packages (from matplotlib~=3.0->cirq-core>=0.13.1->tensorflow-quantum) (1.3.2)\n",
            "Requirement already satisfied: pyparsing!=2.0.4,!=2.1.2,!=2.1.6,>=2.0.1 in /usr/local/lib/python3.7/dist-packages (from matplotlib~=3.0->cirq-core>=0.13.1->tensorflow-quantum) (3.0.7)\n",
            "Requirement already satisfied: python-dateutil>=2.1 in /usr/local/lib/python3.7/dist-packages (from matplotlib~=3.0->cirq-core>=0.13.1->tensorflow-quantum) (2.8.2)\n",
            "Requirement already satisfied: pyasn1<0.5.0,>=0.4.6 in /usr/local/lib/python3.7/dist-packages (from pyasn1-modules>=0.2.1->google-auth==1.18.0->tensorflow-quantum) (0.4.8)\n",
            "Requirement already satisfied: certifi>=2017.4.17 in /usr/local/lib/python3.7/dist-packages (from requests<3.0.0dev,>=2.18.0->google-api-core==1.21.0->tensorflow-quantum) (2021.10.8)\n",
            "Requirement already satisfied: idna<3,>=2.5 in /usr/local/lib/python3.7/dist-packages (from requests<3.0.0dev,>=2.18.0->google-api-core==1.21.0->tensorflow-quantum) (2.10)\n",
            "Requirement already satisfied: chardet<4,>=3.0.2 in /usr/local/lib/python3.7/dist-packages (from requests<3.0.0dev,>=2.18.0->google-api-core==1.21.0->tensorflow-quantum) (3.0.4)\n",
            "Requirement already satisfied: urllib3!=1.25.0,!=1.25.1,<1.26,>=1.21.1 in /usr/local/lib/python3.7/dist-packages (from requests<3.0.0dev,>=2.18.0->google-api-core==1.21.0->tensorflow-quantum) (1.24.3)\n"
          ]
        }
      ],
      "source": [
        "!pip install tensorflow-quantum"
      ]
    },
    {
      "cell_type": "code",
      "execution_count": null,
      "metadata": {
        "id": "kW2sb1rAfhwt"
      },
      "outputs": [],
      "source": [
        "import cirq\n",
        "import numpy as np\n",
        "import qutip\n",
        "import random\n",
        "import sympy\n",
        "import tensorflow as tf\n",
        "import tensorflow_quantum as tfq\n",
        "\n",
        "# visualization tools\n",
        "%matplotlib inline\n",
        "import matplotlib.pyplot as plt\n",
        "from cirq.contrib.svg import SVGCircuit"
      ]
    },
    {
      "cell_type": "markdown",
      "metadata": {
        "id": "Hd1mo09k1Dt3"
      },
      "source": [
        "## Quantum dataset\n",
        "For our quantum dataset, you will generate two blobs on the surface of the Bloch sphere.  The task will be to learn a model to distinguish members of these blobs.  To do this, you first select two axes in the X-Z plane of the block sphere, then select random points uniformly distributed around them:"
      ]
    },
    {
      "cell_type": "code",
      "execution_count": null,
      "metadata": {
        "id": "FUEawr8o1C2g"
      },
      "outputs": [],
      "source": [
        "def generate_dataset(qubit, theta_a, theta_b, num_samples):\n",
        "  \"\"\"Generate a dataset of points on `qubit` near the two given angles; labels\n",
        "  for the two clusters use a one-hot encoding.\n",
        "  \"\"\"\n",
        "  q_data = []\n",
        "  bloch = {\"a\": [[], [], []], \"b\": [[], [], []]}\n",
        "  labels = []\n",
        "  blob_size = abs(theta_a - theta_b) / 5\n",
        "  for _ in range(num_samples):\n",
        "    coin = random.random()\n",
        "    spread_x = np.random.uniform(-blob_size, blob_size)\n",
        "    spread_y = np.random.uniform(-blob_size, blob_size)\n",
        "    if coin < 0.5:\n",
        "      label = [1, 0]\n",
        "      angle = theta_a + spread_y\n",
        "      source = \"a\"\n",
        "    else:\n",
        "      label = [0, 1]\n",
        "      angle = theta_b + spread_y\n",
        "      source = \"b\"\n",
        "    labels.append(label)\n",
        "    q_data.append(cirq.Circuit(cirq.ry(-angle)(qubit), cirq.rx(-spread_x)(qubit)))\n",
        "    bloch[source][0].append(np.cos(angle))\n",
        "    bloch[source][1].append(np.sin(angle)*np.sin(spread_x))\n",
        "    bloch[source][2].append(np.sin(angle)*np.cos(spread_x))\n",
        "  return tfq.convert_to_tensor(q_data), np.array(labels), bloch"
      ]
    },
    {
      "cell_type": "code",
      "execution_count": null,
      "metadata": {
        "id": "YTOqrbFzgTq9"
      },
      "outputs": [],
      "source": [
        "def build_model(theta_a, theta_b):\n",
        "\n",
        "  qubit = cirq.GridQubit(0, 0)\n",
        "\n",
        "  # Build the quantum model layer 1\n",
        "  theta = sympy.Symbol('theta')\n",
        "  q_model = cirq.Circuit(cirq.ry(theta)(qubit))\n",
        "  q_data_input = tf.keras.Input(\n",
        "      shape=(), dtype=tf.dtypes.string)\n",
        "  expectation = tfq.layers.PQC(q_model, cirq.Z(qubit))\n",
        "  expectation_output = expectation(q_data_input)\n",
        "\n",
        "  # Attach the classical SoftMax classifier\n",
        "  classifier = tf.keras.layers.Dense(2, activation=tf.keras.activations.softmax)\n",
        "  classifier_output = classifier(expectation_output)\n",
        "  model = tf.keras.Model(inputs=q_data_input, outputs=classifier_output)\n",
        "\n",
        "  # Standard compilation for classification\n",
        "  model.compile(optimizer=tf.keras.optimizers.Adam(learning_rate=0.1),\n",
        "                loss=tf.keras.losses.CategoricalCrossentropy(),\n",
        "                metrics=['accuracy'])\n",
        "  \n",
        "  return model, qubit"
      ]
    },
    {
      "cell_type": "code",
      "execution_count": null,
      "metadata": {
        "id": "_oBfIyntWT_I"
      },
      "outputs": [],
      "source": [
        "# Constants\n",
        "theta_a = 1\n",
        "theta_b = 4\n",
        "\n",
        "num_samples = 500 # Number datapoints\n",
        "iterations = 10\n",
        "num_epochs = 10"
      ]
    },
    {
      "cell_type": "markdown",
      "metadata": {
        "id": "G6UTLOpYlLIu"
      },
      "source": [
        "## 1-Node Framework\n",
        "Implement Binary Classification in a federated learning framework using 2 separate models run by 2 different simulators. Model 0 represents the global model. Model 1 is a client. The parameters are averaged and used to update the global model."
      ]
    },
    {
      "cell_type": "code",
      "execution_count": null,
      "metadata": {
        "id": "x5a9iurClio6"
      },
      "outputs": [],
      "source": [
        "def run_1_node():\n",
        "\n",
        "  model0, qubit0 = build_model(theta_a, theta_b) # global\n",
        "  model1, qubit1 = build_model(theta_a, theta_b) # client\n",
        "    \n",
        "  loss = []       # Loss value from each iteration\n",
        "  accuracy = []   # Accuracy % of each iteration\n",
        "\n",
        "  for round in range(iterations):\n",
        "\n",
        "    # Generate new local data for client\n",
        "    qubit = cirq.GridQubit(0, 0)\n",
        "    q_data1, labels1, _ = generate_dataset(qubit, theta_a, theta_b, num_samples) \n",
        "\n",
        "    # Train client 1 with (all) local data\n",
        "    history1 = model1.fit(x=q_data1, y=labels1, epochs=num_epochs, verbose=0)\n",
        "\n",
        "    weights0 = model0.get_weights()   # Extract global weights (parameters)\n",
        "    weights1 = model1.get_weights()   # Extract client weights (parameters)\n",
        "\n",
        "    # Average weights\n",
        "    avg_weights = weights0\n",
        "    for j in range(len(weights0)):\n",
        "      avg_weights[j] = (weights0[j] + weights1[j]) / 2\n",
        "    #print(\"Averaged : \\nMA :\", avg_weights)  \n",
        "\n",
        "    # Update weights\n",
        "    model0.set_weights(avg_weights)\n",
        "    model1.set_weights(avg_weights)\n",
        "\n",
        "    # Test updated global model for metrics\n",
        "    qubit = cirq.GridQubit(0, 0)\n",
        "    test_data, test_labels, test_bloch_p = generate_dataset(qubit, theta_a, theta_b, 500)\n",
        "    test_results = model0.evaluate(test_data,test_labels, verbose=0)\n",
        "\n",
        "    loss.append(test_results[0])        # Save loss value of each round\n",
        "    accuracy.append(test_results[1])    # Save accuracy of each round\n",
        "\n",
        "  return loss, accuracy"
      ]
    },
    {
      "cell_type": "markdown",
      "metadata": {
        "id": "0W-D3bcjfd-C"
      },
      "source": [
        "## 2-Node Framework\n",
        "Implement Binary Classification in a federated learning framework using 3 client nodes and the global node models run by 3 different simulators. Model 0 represents the global model. Models 1 and 2 are clients. The parameters are averaged and used to update the global model."
      ]
    },
    {
      "cell_type": "code",
      "execution_count": null,
      "metadata": {
        "id": "XfAzDNnWgVC0"
      },
      "outputs": [],
      "source": [
        "def run_2_node():\n",
        "\n",
        "  model0, qubit0 = build_model(theta_a, theta_b) #global\n",
        "  model1, qubit1 = build_model(theta_a, theta_b) #client1\n",
        "  model2, qubit2 = build_model(theta_a, theta_b) #client2\n",
        "\n",
        "  loss = []       # Loss value from each iteration\n",
        "  accuracy = []   # Accuracy % of each iteration\n",
        "\n",
        "  for round in range(iterations):\n",
        "\n",
        "    # Generate new local data for clients, D2 and D3\n",
        "    qubit = cirq.GridQubit(0, 0)\n",
        "    q_data1, labels1, bloch_p1 = generate_dataset(qubit1, theta_a, theta_b, num_samples) \n",
        "    q_data2, labels2, bloch_p2 = generate_dataset(qubit2, theta_a, theta_b, num_samples)\n",
        "\n",
        "    # Train clients with local data\n",
        "    history1 = model1.fit(x=q_data1, y=labels1, epochs=num_epochs, verbose=0)\n",
        "    history2 = model2.fit(x=q_data2, y=labels2, epochs=num_epochs, verbose=0)\n",
        "\n",
        "    weights0 = model0.get_weights()   # Extract global weights (parameters)\n",
        "    weights1 = model1.get_weights()   # Extract client weights (parameters)\n",
        "    weights2 = model2.get_weights()   # Extract client weights (parameters)\n",
        "\n",
        "    # Average weights\n",
        "    avg_weights = weights0\n",
        "    for j in range(len(weights0)):\n",
        "      avg_weights[j] = (weights0[j] + weights1[j] + weights2[j]) / 3 \n",
        "\n",
        "    # Update weights\n",
        "    model0.set_weights(avg_weights)\n",
        "    model1.set_weights(avg_weights)\n",
        "    model2.set_weights(avg_weights)\n",
        "\n",
        "    # Test updated global model for metrics\n",
        "    qubit = cirq.GridQubit(0, 0)\n",
        "    test_data, test_labels, test_bloch_p = generate_dataset(qubit, theta_a, theta_b, 500)\n",
        "    test_results = model0.evaluate(test_data,test_labels, verbose=0)\n",
        "\n",
        "    loss.append(test_results[0])        # Save loss value of each round\n",
        "    accuracy.append(test_results[1])    # Save accuracy of each round\n",
        "\n",
        "  return loss, accuracy"
      ]
    },
    {
      "cell_type": "markdown",
      "metadata": {
        "id": "kNs6hRg0uJBw"
      },
      "source": [
        "## 5-Node Framework\n",
        "Implement Binary Classification in a federated learning framework using 5 separate models run by 5 different simulators. Model 0 represents the global model. Models 1, 2, 3, 4 are clients. The parameters are averaged and used to update the global model."
      ]
    },
    {
      "cell_type": "code",
      "execution_count": null,
      "metadata": {
        "id": "1F4DH01qr_jg"
      },
      "outputs": [],
      "source": [
        "def run_5_node():\n",
        "    \n",
        "  model0, _ = build_model(theta_a, theta_b) #global\n",
        "  model1, _ = build_model(theta_a, theta_b) #client 1\n",
        "  model2, _ = build_model(theta_a, theta_b) #client 2\n",
        "  model3, _ = build_model(theta_a, theta_b) #client 3\n",
        "  model4, _ = build_model(theta_a, theta_b) #client 4\n",
        "  model5, _ = build_model(theta_a, theta_b) #client 5\n",
        "\n",
        "  loss = []       # Loss value from each iteration\n",
        "  accuracy = []   # Accuracy % of each iteration\n",
        "\n",
        "  for round in range(iterations):\n",
        "\n",
        "    # Generate new local data for clients, D1, D2, D3, D4\n",
        "    qubit = cirq.GridQubit(0, 0)\n",
        "    q_data1, labels1, bloch_p1 = generate_dataset(qubit, theta_a, theta_b, num_samples) \n",
        "    q_data2, labels2, bloch_p2 = generate_dataset(qubit, theta_a, theta_b, num_samples) \n",
        "    q_data3, labels3, bloch_p3 = generate_dataset(qubit, theta_a, theta_b, num_samples) \n",
        "    q_data4, labels4, bloch_p4 = generate_dataset(qubit, theta_a, theta_b, num_samples) \n",
        "    q_data5, labels5, bloch_p5 = generate_dataset(qubit, theta_a, theta_b, num_samples) \n",
        "\n",
        "    # Train clients with local data\n",
        "    history1 = model1.fit(x=q_data1, y=labels1, epochs=num_epochs, verbose=0)\n",
        "    history2 = model2.fit(x=q_data2, y=labels2, epochs=num_epochs, verbose=0)\n",
        "    history3 = model3.fit(x=q_data3, y=labels3, epochs=num_epochs, verbose=0)\n",
        "    history4 = model4.fit(x=q_data4, y=labels4, epochs=num_epochs, verbose=0)\n",
        "    history5 = model5.fit(x=q_data5, y=labels5, epochs=num_epochs, verbose=0)\n",
        "\n",
        "    weights0 = model0.get_weights()   # Extract global weights (parameters)\n",
        "    weights1 = model1.get_weights()   # Extract client weights (parameters)\n",
        "    weights2 = model2.get_weights()   # Extract client weights (parameters)\n",
        "    weights3 = model3.get_weights()   # Extract client weights (parameters)\n",
        "    weights4 = model4.get_weights()   # Extract client weights (parameters)\n",
        "    weights5 = model5.get_weights()   # Extract client weights (parameters)\n",
        "\n",
        "    # Average weights\n",
        "    avg_weights = weights0\n",
        "    for j in range(len(weights0)):\n",
        "      avg_weights[j] = (weights0[j] + weights1[j] + weights2[j] + weights3[j] + weights4[j] + weights5[j]) / 6\n",
        "\n",
        "    # Update weights\n",
        "    model0.set_weights(avg_weights)\n",
        "    model1.set_weights(avg_weights)\n",
        "    model2.set_weights(avg_weights)\n",
        "    model3.set_weights(avg_weights)\n",
        "    model4.set_weights(avg_weights)\n",
        "    model5.set_weights(avg_weights)\n",
        "\n",
        "    # Test updated global model for metrics\n",
        "    qubit = cirq.GridQubit(0, 0)\n",
        "    test_data, test_labels, test_bloch_p = generate_dataset(qubit, theta_a, theta_b, 500)\n",
        "    test_results = model0.evaluate(test_data,test_labels, verbose=0)\n",
        "\n",
        "    loss.append(test_results[0])        # Save loss value of each round\n",
        "    accuracy.append(test_results[1])    # Save accuracy of each round\n",
        "\n",
        "  return loss, accuracy"
      ]
    },
    {
      "cell_type": "markdown",
      "metadata": {
        "id": "hlgJmNuOemsi"
      },
      "source": [
        "## 10-Node Framework\n",
        "Implement Binary Classification in a federated learning framework using 10 clients. Model 0 represents the global model. Models 1, 2, 3, 4, 5, 6, 7, 8, 9, 10 are clients. The parameters are averaged and used to update the global model."
      ]
    },
    {
      "cell_type": "code",
      "execution_count": null,
      "metadata": {
        "id": "BPVIqxysfBWv"
      },
      "outputs": [],
      "source": [
        "def run_10_node():\n",
        "\n",
        "  # Create 10-node framework: 1 global model, 10 clients\n",
        "  model0, _ = build_model(theta_a, theta_b) #global\n",
        "  model1, _ = build_model(theta_a, theta_b)\n",
        "  model2, _ = build_model(theta_a, theta_b)\n",
        "  model3, _ = build_model(theta_a, theta_b)\n",
        "  model4, _ = build_model(theta_a, theta_b)\n",
        "  model5, _ = build_model(theta_a, theta_b)\n",
        "  model6, _ = build_model(theta_a, theta_b)\n",
        "  model7, _ = build_model(theta_a, theta_b)\n",
        "  model8, _ = build_model(theta_a, theta_b)\n",
        "  model9, _ = build_model(theta_a, theta_b)\n",
        "  model10, _ = build_model(theta_a, theta_b)\n",
        "\n",
        "  loss = []       # Loss value from each epoch\n",
        "  accuracy = []   # Accuracy % of each epoch\n",
        "\n",
        "  for round in range(iterations):\n",
        "\n",
        "    # Generate new local data for clients, D1, D2, D3, D4\n",
        "    qubit = cirq.GridQubit(0, 0)\n",
        "    q_data1, labels1, bloch_p1 = generate_dataset(qubit, theta_a, theta_b, num_samples) \n",
        "    q_data2, labels2, bloch_p2 = generate_dataset(qubit, theta_a, theta_b, num_samples) \n",
        "    q_data3, labels3, bloch_p3 = generate_dataset(qubit, theta_a, theta_b, num_samples) \n",
        "    q_data4, labels4, bloch_p4 = generate_dataset(qubit, theta_a, theta_b, num_samples) \n",
        "    q_data5, labels5, bloch_p5 = generate_dataset(qubit, theta_a, theta_b, num_samples) \n",
        "    q_data6, labels6, bloch_p6 = generate_dataset(qubit, theta_a, theta_b, num_samples) \n",
        "    q_data7, labels7, bloch_p7 = generate_dataset(qubit, theta_a, theta_b, num_samples) \n",
        "    q_data8, labels8, bloch_p8 = generate_dataset(qubit, theta_a, theta_b, num_samples)\n",
        "    q_data9, labels9, bloch_p9 = generate_dataset(qubit, theta_a, theta_b, num_samples)\n",
        "    q_data10, labels10, bloch_p10 = generate_dataset(qubit, theta_a, theta_b, num_samples)\n",
        "\n",
        "    # Train clients with local data\n",
        "    history1 = model1.fit(x=q_data1, y=labels1, epochs=num_epochs, verbose=0)\n",
        "    history2 = model2.fit(x=q_data2, y=labels2, epochs=num_epochs, verbose=0)\n",
        "    history3 = model3.fit(x=q_data3, y=labels3, epochs=num_epochs, verbose=0)\n",
        "    history4 = model4.fit(x=q_data4, y=labels4, epochs=num_epochs, verbose=0)\n",
        "    history5 = model5.fit(x=q_data5, y=labels5, epochs=num_epochs, verbose=0)\n",
        "    history6 = model6.fit(x=q_data6, y=labels6, epochs=num_epochs, verbose=0)\n",
        "    history7 = model7.fit(x=q_data7, y=labels7, epochs=num_epochs, verbose=0)\n",
        "    history8 = model8.fit(x=q_data8, y=labels8, epochs=num_epochs, verbose=0)\n",
        "    history9 = model9.fit(x=q_data9, y=labels9, epochs=num_epochs, verbose=0)\n",
        "    history10 = model10.fit(x=q_data10, y=labels10, epochs=num_epochs, verbose=0)\n",
        "\n",
        "    weights0 = model0.get_weights()   # Extract global weights (parameters)\n",
        "    weights1 = model1.get_weights()   # Extract client weights (parameters)\n",
        "    weights2 = model2.get_weights()   # Extract client weights (parameters)\n",
        "    weights3 = model3.get_weights()   # Extract client weights (parameters)\n",
        "    weights4 = model4.get_weights()   # Extract client weights (parameters)\n",
        "    weights5 = model5.get_weights()   # Extract global weights (parameters)\n",
        "    weights6 = model6.get_weights()   # Extract client weights (parameters)\n",
        "    weights7 = model7.get_weights()   # Extract client weights (parameters)\n",
        "    weights8 = model8.get_weights()   # Extract client weights (parameters)\n",
        "    weights9 = model9.get_weights()   # Extract client weights (parameters)\n",
        "    weights10 = model10.get_weights()   # Extract client weights (parameters)\n",
        "\n",
        "    # Average weights\n",
        "    avg_weights = weights0\n",
        "    for j in range(len(weights0)):\n",
        "      avg_weights[j] = (weights0[j] + weights1[j] + weights2[j] + weights3[j] \n",
        "                        + weights4[j] + weights5[j] + weights6[j] + weights7[j] \n",
        "                        + weights8[j] + weights9[j] + weights10[j]) / 11\n",
        "\n",
        "    # Update weights\n",
        "    model0.set_weights(avg_weights)\n",
        "    model1.set_weights(avg_weights)\n",
        "    model2.set_weights(avg_weights)\n",
        "    model3.set_weights(avg_weights)\n",
        "    model4.set_weights(avg_weights)\n",
        "    model5.set_weights(avg_weights)\n",
        "    model6.set_weights(avg_weights)\n",
        "    model7.set_weights(avg_weights)\n",
        "    model8.set_weights(avg_weights)\n",
        "    model9.set_weights(avg_weights)\n",
        "    model10.set_weights(avg_weights)\n",
        "\n",
        "    # Test updated global model for metrics\n",
        "    qubit = cirq.GridQubit(0, 0)\n",
        "    test_data, test_labels, test_bloch_p = generate_dataset(qubit, theta_a, theta_b, 500)\n",
        "    test_results = model0.evaluate(test_data,test_labels, verbose=0)\n",
        "\n",
        "    loss.append(test_results[0])        # Save loss value of each round\n",
        "    accuracy.append(test_results[1])    # Save accuracy of each round\n",
        "\n",
        "  return loss, accuracy"
      ]
    },
    {
      "cell_type": "markdown",
      "metadata": {
        "id": "M8fLmLvMqs1m"
      },
      "source": [
        "## Run frameworks"
      ]
    },
    {
      "cell_type": "markdown",
      "metadata": {
        "id": "RLeaElp2Ay6-"
      },
      "source": [
        "## 20-Node Framework\n",
        "Implement Binary Classification in a federated learning framework using 20 clients. Model 0 represents the global model. Models 1, 2, 3, 4, 5, 6, 7, 8, 9, 10, 11, 12, 13, 14, 15, 16, 17, 18, 19, 20 are clients. The parameters are averaged and used to update the global model."
      ]
    },
    {
      "cell_type": "code",
      "execution_count": null,
      "metadata": {
        "id": "LUAXLgHZBhvx"
      },
      "outputs": [],
      "source": [
        "def run_20_node():\n",
        "    \n",
        "  model0, _ = build_model(theta_a, theta_b) #global\n",
        "  model1, _ = build_model(theta_a, theta_b)\n",
        "  model2, _ = build_model(theta_a, theta_b)\n",
        "  model3, _ = build_model(theta_a, theta_b)\n",
        "  model4, _ = build_model(theta_a, theta_b)\n",
        "  model5, _ = build_model(theta_a, theta_b)\n",
        "  model6, _ = build_model(theta_a, theta_b)\n",
        "  model7, _ = build_model(theta_a, theta_b)\n",
        "  model8, _ = build_model(theta_a, theta_b)\n",
        "  model9, _ = build_model(theta_a, theta_b)\n",
        "  model10, _ = build_model(theta_a, theta_b)\n",
        "  model11, _ = build_model(theta_a, theta_b)\n",
        "  model12, _ = build_model(theta_a, theta_b)\n",
        "  model13, _ = build_model(theta_a, theta_b)\n",
        "  model14, _ = build_model(theta_a, theta_b)\n",
        "  model15, _ = build_model(theta_a, theta_b)\n",
        "  model16, _ = build_model(theta_a, theta_b)\n",
        "  model17, _ = build_model(theta_a, theta_b)\n",
        "  model18, _ = build_model(theta_a, theta_b)\n",
        "  model19, _ = build_model(theta_a, theta_b)\n",
        "  model20, _ = build_model(theta_a, theta_b)\n",
        "\n",
        "  loss = []       # Loss value from each epoch\n",
        "  accuracy = []   # Accuracy % of each epoch\n",
        "\n",
        "  for round in range(iterations):\n",
        "\n",
        "    # Generate new local data for clients, D1, D2, D3, D4\n",
        "    qubit = cirq.GridQubit(0, 0)\n",
        "    q_data1, labels1, _ = generate_dataset(qubit, theta_a, theta_b, num_samples) \n",
        "    q_data2, labels2, _ = generate_dataset(qubit, theta_a, theta_b, num_samples) \n",
        "    q_data3, labels3, _ = generate_dataset(qubit, theta_a, theta_b, num_samples) \n",
        "    q_data4, labels4, _ = generate_dataset(qubit, theta_a, theta_b, num_samples) \n",
        "    q_data5, labels5, _ = generate_dataset(qubit, theta_a, theta_b, num_samples) \n",
        "    q_data6, labels6, _ = generate_dataset(qubit, theta_a, theta_b, num_samples) \n",
        "    q_data7, labels7, _ = generate_dataset(qubit, theta_a, theta_b, num_samples) \n",
        "    q_data8, labels8, _ = generate_dataset(qubit, theta_a, theta_b, num_samples)\n",
        "    q_data9, labels9, _ = generate_dataset(qubit, theta_a, theta_b, num_samples)\n",
        "    q_data10, labels10, _ = generate_dataset(qubit, theta_a, theta_b, num_samples)\n",
        "    q_data11, labels11, _ = generate_dataset(qubit, theta_a, theta_b, num_samples) \n",
        "    q_data12, labels12, _ = generate_dataset(qubit, theta_a, theta_b, num_samples) \n",
        "    q_data13, labels13, _ = generate_dataset(qubit, theta_a, theta_b, num_samples) \n",
        "    q_data14, labels14, _ = generate_dataset(qubit, theta_a, theta_b, num_samples) \n",
        "    q_data15, labels15, _ = generate_dataset(qubit, theta_a, theta_b, num_samples) \n",
        "    q_data16, labels16, _ = generate_dataset(qubit, theta_a, theta_b, num_samples) \n",
        "    q_data17, labels17, _ = generate_dataset(qubit, theta_a, theta_b, num_samples) \n",
        "    q_data18, labels18, _ = generate_dataset(qubit, theta_a, theta_b, num_samples)\n",
        "    q_data19, labels19, _ = generate_dataset(qubit, theta_a, theta_b, num_samples)\n",
        "    q_data20, labels20, _ = generate_dataset(qubit, theta_a, theta_b, num_samples)\n",
        "\n",
        "    # Train clients with local data\n",
        "    history1 = model1.fit(x=q_data1, y=labels1, epochs=num_epochs, verbose=0)\n",
        "    history2 = model2.fit(x=q_data2, y=labels2, epochs=num_epochs, verbose=0)\n",
        "    history3 = model3.fit(x=q_data3, y=labels3, epochs=num_epochs, verbose=0)\n",
        "    history4 = model4.fit(x=q_data4, y=labels4, epochs=num_epochs, verbose=0)\n",
        "    history5 = model5.fit(x=q_data5, y=labels5, epochs=num_epochs, verbose=0)\n",
        "    history6 = model6.fit(x=q_data6, y=labels6, epochs=num_epochs, verbose=0)\n",
        "    history7 = model7.fit(x=q_data7, y=labels7, epochs=num_epochs, verbose=0)\n",
        "    history8 = model8.fit(x=q_data8, y=labels8, epochs=num_epochs, verbose=0)\n",
        "    history9 = model9.fit(x=q_data9, y=labels9, epochs=num_epochs, verbose=0)\n",
        "    history10 = model10.fit(x=q_data10, y=labels10, epochs=num_epochs, verbose=0)\n",
        "    history11 = model11.fit(x=q_data11, y=labels11, epochs=num_epochs, verbose=0)\n",
        "    history12 = model12.fit(x=q_data12, y=labels12, epochs=num_epochs, verbose=0)\n",
        "    history13 = model13.fit(x=q_data13, y=labels13, epochs=num_epochs, verbose=0)\n",
        "    history14 = model14.fit(x=q_data14, y=labels14, epochs=num_epochs, verbose=0)\n",
        "    history15 = model15.fit(x=q_data15, y=labels15, epochs=num_epochs, verbose=0)\n",
        "    history16 = model16.fit(x=q_data16, y=labels16, epochs=num_epochs, verbose=0)\n",
        "    history17 = model17.fit(x=q_data17, y=labels17, epochs=num_epochs, verbose=0)\n",
        "    history18 = model18.fit(x=q_data18, y=labels18, epochs=num_epochs, verbose=0)\n",
        "    history19 = model19.fit(x=q_data19, y=labels19, epochs=num_epochs, verbose=0)\n",
        "    history20 = model20.fit(x=q_data20, y=labels20, epochs=num_epochs, verbose=0)\n",
        "\n",
        "    # Extract global weights (parameters)\n",
        "    weights0 = model0.get_weights()   \n",
        "    weights1 = model1.get_weights()  \n",
        "    weights2 = model2.get_weights()  \n",
        "    weights3 = model3.get_weights()  \n",
        "    weights4 = model4.get_weights()   \n",
        "    weights5 = model5.get_weights() \n",
        "    weights6 = model6.get_weights()   \n",
        "    weights7 = model7.get_weights()   \n",
        "    weights8 = model8.get_weights()  \n",
        "    weights9 = model9.get_weights()  \n",
        "    weights10 = model10.get_weights()  \n",
        "    weights11 = model11.get_weights()  \n",
        "    weights12 = model12.get_weights()  \n",
        "    weights13 = model13.get_weights()  \n",
        "    weights14 = model14.get_weights()   \n",
        "    weights15 = model15.get_weights() \n",
        "    weights16 = model16.get_weights()   \n",
        "    weights17 = model17.get_weights()   \n",
        "    weights18 = model18.get_weights()  \n",
        "    weights19 = model19.get_weights()  \n",
        "    weights20 = model20.get_weights()   \n",
        "\n",
        "    # Average weights\n",
        "    avg_weights = weights0\n",
        "    for j in range(len(weights0)):\n",
        "      avg_weights[j] = (weights0[j] + weights1[j] + weights2[j] + weights3[j] \n",
        "                        + weights4[j] + weights5[j] + weights6[j] + weights7[j] \n",
        "                        + weights8[j] + weights9[j] + weights10[j]\n",
        "                        + weights11[j] + weights12[j] + weights13[j] \n",
        "                        + weights14[j] + weights15[j] + weights16[j] + weights17[j] \n",
        "                        + weights18[j] + weights19[j] + weights20[j]) / 21 \n",
        "\n",
        "    # Update weights\n",
        "    model0.set_weights(avg_weights)\n",
        "    model1.set_weights(avg_weights)\n",
        "    model2.set_weights(avg_weights)\n",
        "    model3.set_weights(avg_weights)\n",
        "    model4.set_weights(avg_weights)\n",
        "    model5.set_weights(avg_weights)\n",
        "    model6.set_weights(avg_weights)\n",
        "    model7.set_weights(avg_weights)\n",
        "    model8.set_weights(avg_weights)\n",
        "    model9.set_weights(avg_weights)\n",
        "    model10.set_weights(avg_weights)\n",
        "    model11.set_weights(avg_weights)\n",
        "    model12.set_weights(avg_weights)\n",
        "    model13.set_weights(avg_weights)\n",
        "    model14.set_weights(avg_weights)\n",
        "    model15.set_weights(avg_weights)\n",
        "    model16.set_weights(avg_weights)\n",
        "    model17.set_weights(avg_weights)\n",
        "    model18.set_weights(avg_weights)\n",
        "    model19.set_weights(avg_weights)\n",
        "    model20.set_weights(avg_weights)\n",
        "\n",
        "    # Test updated global model for metrics\n",
        "    qubit = cirq.GridQubit(0, 0)\n",
        "    test_data, test_labels, test_bloch_p = generate_dataset(qubit, theta_a, theta_b, 500)\n",
        "    test_results = model0.evaluate(test_data,test_labels, verbose=0)\n",
        "\n",
        "    loss.append(test_results[0])        # Save loss value of each round\n",
        "    accuracy.append(test_results[1])    # Save accuracy of each round\n",
        "\n",
        "  return loss, accuracy"
      ]
    },
    {
      "cell_type": "code",
      "execution_count": null,
      "metadata": {
        "id": "SL9otQ1JfTkX"
      },
      "outputs": [],
      "source": [
        "loss1_1, accuracy1_1 = run_1_node()\n",
        "loss1_2, accuracy1_2 = run_1_node()\n",
        "loss1_3, accuracy1_3 = run_1_node()\n",
        "loss1_4, accuracy1_4 = run_1_node()\n",
        "loss1_5, accuracy1_5 = run_1_node()"
      ]
    },
    {
      "cell_type": "code",
      "execution_count": null,
      "metadata": {
        "colab": {
          "base_uri": "https://localhost:8080/"
        },
        "id": "iXhqaw9dfTYQ",
        "outputId": "fa09aab6-e1bd-47c9-9648-0f6bba43494d"
      },
      "outputs": [
        {
          "name": "stdout",
          "output_type": "stream",
          "text": [
            "loss1_1 : [1.0467690229415894, 0.10749558359384537, 0.007754320278763771, 0.0019330157665535808, 0.000981668708845973, 0.0006399232079274952, 0.00044225051533430815, 0.0003371612401679158, 0.00029505250859074295, 0.00021385872969403863]\n",
            "loss1_2 : [0.03386761620640755, 0.00403784541413188, 0.001266844803467393, 0.0005886185099370778, 0.0003580591583158821, 0.00022251874906942248, 0.0001668507029535249, 0.00013478832261171192, 0.00010747816122602671, 8.718220487935469e-05]\n",
            "loss1_3 : [1.3700543642044067, 0.11040358245372772, 0.007542714476585388, 0.0015983516350388527, 0.0008366709225811064, 0.0005244404310360551, 0.0003762527776416391, 0.00029043370159342885, 0.00022883839847054332, 0.00019402956240810454]\n",
            "loss1_4 : [0.37296655774116516, 0.023327473551034927, 0.0036310891155153513, 0.001284571597352624, 0.0007361694588325918, 0.0004876575549133122, 0.00035843122168444097, 0.0002575311518739909, 0.00020534741634037346, 0.0001713896926958114]\n",
            "loss1_5 : [0.17857757210731506, 0.01860806904733181, 0.00442831264808774, 0.0019595958292484283, 0.001122780959121883, 0.0007484079105779529, 0.0005412765312939882, 0.0004312002274673432, 0.0003352148924022913, 0.0002592717355582863]\n",
            "loss1 :  [0.6004470266401768, 0.05277451081201434, 0.004924656264483929, 0.0014728306676261127, 0.0008070698415394873, 0.0005245895707048475, 0.00037701234978158025, 0.00029022292874287815, 0.00023438627540599554, 0.0001851463850471191]\n",
            "accuracy1_1 : [0.32600000500679016, 1.0, 1.0, 1.0, 1.0, 1.0, 1.0, 1.0, 1.0, 1.0]\n",
            "accuracy1_2 : [1.0, 1.0, 1.0, 1.0, 1.0, 1.0, 1.0, 1.0, 1.0, 1.0]\n",
            "accuracy1_3 : [0.22599999606609344, 0.9879999756813049, 1.0, 1.0, 1.0, 1.0, 1.0, 1.0, 1.0, 1.0]\n",
            "accuracy1_4 : [0.8180000185966492, 1.0, 1.0, 1.0, 1.0, 1.0, 1.0, 1.0, 1.0, 1.0]\n",
            "accuracy1_5 : [1.0, 1.0, 1.0, 1.0, 1.0, 1.0, 1.0, 1.0, 1.0, 1.0]\n",
            "accuracy1 :  [0.6740000039339066, 0.997599995136261, 1.0, 1.0, 1.0, 1.0, 1.0, 1.0, 1.0, 1.0]\n"
          ]
        }
      ],
      "source": [
        "loss1 = []\n",
        "accuracy1 = []\n",
        "\n",
        "# Calculate average loss\n",
        "for i in range(len(loss1_1)):\n",
        "  loss1.append((loss1_1[i] + loss1_2[i] + loss1_3[i] + loss1_4[i] + loss1_5[i]) / 5)\n",
        "\n",
        "print('loss1_1 :', loss1_1)\n",
        "print('loss1_2 :', loss1_2)\n",
        "print('loss1_3 :', loss1_3)\n",
        "print('loss1_4 :', loss1_4)\n",
        "print('loss1_5 :', loss1_5)\n",
        "print('loss1 : ', loss1)\n",
        "\n",
        "\n",
        "# Calculate average accuracy\n",
        "for i in range(len(accuracy1_1)):\n",
        "  accuracy1.append((accuracy1_1[i] + accuracy1_2[i] + accuracy1_3[i] + accuracy1_4[i] + accuracy1_5[i]) / 5)\n",
        "\n",
        "print('accuracy1_1 :', accuracy1_1)\n",
        "print('accuracy1_2 :', accuracy1_2)\n",
        "print('accuracy1_3 :', accuracy1_3)\n",
        "print('accuracy1_4 :', accuracy1_4)\n",
        "print('accuracy1_5 :', accuracy1_5)\n",
        "print('accuracy1 : ', accuracy1)"
      ]
    },
    {
      "cell_type": "code",
      "execution_count": null,
      "metadata": {
        "id": "sgSpAwfyfTOs"
      },
      "outputs": [],
      "source": [
        "loss2_1, accuracy2_1 = run_2_node()\n",
        "loss2_2, accuracy2_2 = run_2_node()\n",
        "loss2_3, accuracy2_3 = run_2_node()\n",
        "loss2_4, accuracy2_4 = run_2_node()\n",
        "loss2_5, accuracy2_5 = run_2_node()"
      ]
    },
    {
      "cell_type": "code",
      "execution_count": null,
      "metadata": {
        "colab": {
          "base_uri": "https://localhost:8080/"
        },
        "id": "O-cLu2M_fTE5",
        "outputId": "702aa19a-f32c-47fa-b322-d23b61a38064"
      },
      "outputs": [
        {
          "name": "stdout",
          "output_type": "stream",
          "text": [
            "loss2_1 : [0.15434704720973969, 0.003886944381520152, 0.0011018477380275726, 0.0005995637620799243, 0.00038178463000804186, 0.00025885438662953675, 0.00019789751968346536, 0.000159925184561871, 0.00012231497385073453, 0.00010910863784374669]\n",
            "loss2_2 : [0.7041351199150085, 0.01598937250673771, 0.0023940401151776314, 0.0010131045710295439, 0.0006663502426818013, 0.00042193150147795677, 0.00032498384825885296, 0.00023452629102393985, 0.0001922222290886566, 0.00014596567780245095]\n",
            "loss2_3 : [0.011938132345676422, 0.0037845144979655743, 0.0018897829577326775, 0.0010812270920723677, 0.0007706437027081847, 0.0005491830524988472, 0.00044122623512521386, 0.00031999193015508354, 0.0002913145290222019, 0.0002330053539481014]\n",
            "loss2_4 : [1.1377140283584595, 0.018285714089870453, 0.004771050065755844, 0.0023218663409352303, 0.0013428878737613559, 0.0009163778158836067, 0.0006596824387088418, 0.0005047020385973155, 0.0004114445473533124, 0.00034327327739447355]\n",
            "loss2_5 : [0.05426165834069252, 0.003289297688752413, 0.0010921680368483067, 0.0005947660538367927, 0.0003777640522457659, 0.00028907088562846184, 0.00020822364604100585, 0.00016055408923421055, 0.0001283515157410875, 9.887803753372282e-05]\n",
            "loss2 :  [0.41247919723391535, 0.00904716863296926, 0.0022497777827084064, 0.0011221055639907718, 0.0007078861002810299, 0.00048708352842368184, 0.00036640273756347594, 0.0002759399067144841, 0.00022912955901119859, 0.0001860461969044991]\n",
            "accuracy2_1 : [0.984000027179718, 1.0, 1.0, 1.0, 1.0, 1.0, 1.0, 1.0, 1.0, 1.0]\n",
            "accuracy2_2 : [0.2199999988079071, 1.0, 1.0, 1.0, 1.0, 1.0, 1.0, 1.0, 1.0, 1.0]\n",
            "accuracy2_3 : [1.0, 1.0, 1.0, 1.0, 1.0, 1.0, 1.0, 1.0, 1.0, 1.0]\n",
            "accuracy2_4 : [0.0, 1.0, 1.0, 1.0, 1.0, 1.0, 1.0, 1.0, 1.0, 1.0]\n",
            "accuracy2_5 : [1.0, 1.0, 1.0, 1.0, 1.0, 1.0, 1.0, 1.0, 1.0, 1.0]\n",
            "accuracy2 :  [0.640800005197525, 1.0, 1.0, 1.0, 1.0, 1.0, 1.0, 1.0, 1.0, 1.0]\n"
          ]
        }
      ],
      "source": [
        "loss2 = []\n",
        "accuracy2 = []\n",
        "\n",
        "# Calculate average loss\n",
        "for i in range(len(loss2_1)):\n",
        "  loss2.append((loss2_1[i] + loss2_2[i] + loss2_3[i] + loss2_4[i] + loss2_5[i]) / 5)\n",
        "\n",
        "print('loss2_1 :', loss2_1)\n",
        "print('loss2_2 :', loss2_2)\n",
        "print('loss2_3 :', loss2_3)\n",
        "print('loss2_4 :', loss2_4)\n",
        "print('loss2_5 :', loss2_5)\n",
        "print('loss2 : ', loss2)\n",
        "\n",
        "\n",
        "# Calculate average accuracy\n",
        "for i in range(len(accuracy2_1)):\n",
        "  accuracy2.append((accuracy2_1[i] + accuracy2_2[i] + accuracy2_3[i] + accuracy2_4[i] + accuracy2_5[i]) / 5)\n",
        "\n",
        "print('accuracy2_1 :', accuracy2_1)\n",
        "print('accuracy2_2 :', accuracy2_2)\n",
        "print('accuracy2_3 :', accuracy2_3)\n",
        "print('accuracy2_4 :', accuracy2_4)\n",
        "print('accuracy2_5 :', accuracy2_5)\n",
        "print('accuracy2 : ', accuracy2)"
      ]
    },
    {
      "cell_type": "code",
      "execution_count": null,
      "metadata": {
        "id": "7peaOhxzfS59"
      },
      "outputs": [],
      "source": [
        "loss5_1, accuracy5_1 = run_5_node()\n",
        "loss5_2, accuracy5_2 = run_5_node()\n",
        "loss5_3, accuracy5_3 = run_5_node()\n",
        "loss5_4, accuracy5_4 = run_5_node()\n",
        "loss5_5, accuracy5_5 = run_5_node()"
      ]
    },
    {
      "cell_type": "code",
      "execution_count": null,
      "metadata": {
        "colab": {
          "base_uri": "https://localhost:8080/"
        },
        "id": "Eyl70OJ6fSsY",
        "outputId": "6f352728-a515-4539-d025-5efc1b2d9220"
      },
      "outputs": [
        {
          "name": "stdout",
          "output_type": "stream",
          "text": [
            "loss5_1 : [0.9051020741462708, 0.004229487851262093, 0.001210985821671784, 0.0006651536095887423, 0.00046399867278523743, 0.00033846680889837444, 0.00025728726177476346, 0.00019544408132787794, 0.0001522547099739313, 0.00013636813673656434]\n",
            "loss5_2 : [0.8881517648696899, 0.004965689964592457, 0.0012503727339208126, 0.0007074283203110099, 0.0004692173097282648, 0.00037099182372912765, 0.00025917700259014964, 0.0001972872414626181, 0.0001704540045466274, 0.0001400472829118371]\n",
            "loss5_3 : [0.6420131325721741, 0.004946362227201462, 0.0014890433521941304, 0.0007815325516276062, 0.0005628191865980625, 0.0003787404275499284, 0.0002911017509177327, 0.00022488356626126915, 0.00018429751798976213, 0.00015486381016671658]\n",
            "loss5_4 : [0.006531119346618652, 0.001501362188719213, 0.0007142165559343994, 0.0003953822888433933, 0.00027539816801436245, 0.00021148769883438945, 0.00015629325935151428, 0.00012758390221279114, 9.410823986399919e-05, 8.205639460356906e-05]\n",
            "loss5_5 : [0.7545233368873596, 0.004810567479580641, 0.0013501839712262154, 0.0008283851784653962, 0.0004966999986208975, 0.00036406092112883925, 0.0002876649668905884, 0.0002082930732285604, 0.0001675712555879727, 0.00014280376490205526]\n",
            "loss5 :  [0.6392642855644226, 0.004090693942271173, 0.0012029604869894684, 0.0006755763897672296, 0.00045362666714936494, 0.00033274953602813184, 0.0002503048483049497, 0.00019069837289862335, 0.00015373714559245854, 0.00013122787786414846]\n",
            "accuracy5_1 : [0.27000001072883606, 1.0, 1.0, 1.0, 1.0, 1.0, 1.0, 1.0, 1.0, 1.0]\n",
            "accuracy5_2 : [0.25999999046325684, 1.0, 1.0, 1.0, 1.0, 1.0, 1.0, 1.0, 1.0, 1.0]\n",
            "accuracy5_3 : [0.7080000042915344, 1.0, 1.0, 1.0, 1.0, 1.0, 1.0, 1.0, 1.0, 1.0]\n",
            "accuracy5_4 : [1.0, 1.0, 1.0, 1.0, 1.0, 1.0, 1.0, 1.0, 1.0, 1.0]\n",
            "accuracy5_5 : [0.3919999897480011, 1.0, 1.0, 1.0, 1.0, 1.0, 1.0, 1.0, 1.0, 1.0]\n",
            "accuracy5 :  [0.5259999990463257, 1.0, 1.0, 1.0, 1.0, 1.0, 1.0, 1.0, 1.0, 1.0]\n"
          ]
        }
      ],
      "source": [
        "loss5 = []\n",
        "accuracy5 = []\n",
        "\n",
        "# Calculate average loss\n",
        "for i in range(len(loss5_1)):\n",
        "  loss5.append((loss5_1[i] + loss5_2[i] + loss5_3[i] + loss5_4[i] + loss5_5[i]) / 5)\n",
        "\n",
        "print('loss5_1 :', loss5_1)\n",
        "print('loss5_2 :', loss5_2)\n",
        "print('loss5_3 :', loss5_3)\n",
        "print('loss5_4 :', loss5_4)\n",
        "print('loss5_5 :', loss5_5)\n",
        "print('loss5 : ', loss5)\n",
        "\n",
        "\n",
        "# Calculate average accuracy\n",
        "for i in range(len(accuracy5_1)):\n",
        "  accuracy5.append((accuracy5_1[i] + accuracy5_2[i] + accuracy5_3[i] + accuracy5_4[i] + accuracy5_5[i]) / 5)\n",
        "\n",
        "print('accuracy5_1 :', accuracy5_1)\n",
        "print('accuracy5_2 :', accuracy5_2)\n",
        "print('accuracy5_3 :', accuracy5_3)\n",
        "print('accuracy5_4 :', accuracy5_4)\n",
        "print('accuracy5_5 :', accuracy5_5)\n",
        "print('accuracy5 : ', accuracy5)"
      ]
    },
    {
      "cell_type": "code",
      "execution_count": null,
      "metadata": {
        "id": "8Iy0_p6cfSjC"
      },
      "outputs": [],
      "source": [
        "loss10_1, accuracy10_1 = run_10_node()\n",
        "loss10_2, accuracy10_2 = run_10_node()\n",
        "loss10_3, accuracy10_3 = run_10_node()\n",
        "loss10_4, accuracy10_4 = run_10_node()\n",
        "loss10_5, accuracy10_5 = run_10_node()"
      ]
    },
    {
      "cell_type": "code",
      "execution_count": null,
      "metadata": {
        "colab": {
          "base_uri": "https://localhost:8080/"
        },
        "id": "lDFsE2PvfSWk",
        "outputId": "2fa27dab-7350-4594-fa51-f75992b05860"
      },
      "outputs": [
        {
          "name": "stdout",
          "output_type": "stream",
          "text": [
            "loss10_1 : [0.5002539753913879, 0.0020771417766809464, 0.0009496818529441953, 0.0005712196580134332, 0.00038269764627330005, 0.0002681820478755981, 0.00021330839081201702, 0.00017198904242832214, 0.000135259804665111, 0.00011892122711287811]\n",
            "loss10_2 : [0.7175602316856384, 0.0016300681745633483, 0.0008622268796898425, 0.000517850334290415, 0.0003526354266796261, 0.0002600483421701938, 0.0001987823925446719, 0.00015979871386662126, 0.00013378611765801907, 0.00011203159374417737]\n",
            "loss10_3 : [0.398441344499588, 0.0021246252581477165, 0.0009779642568901181, 0.0006164216320030391, 0.00039661634946241975, 0.0002968336339108646, 0.00021487296908162534, 0.0001789213711163029, 0.00014296734298113734, 0.00012121035251766443]\n",
            "loss10_4 : [0.6188825964927673, 0.0018632811261340976, 0.0008148345514200628, 0.0004684070299845189, 0.0003378898254595697, 0.0002361979422857985, 0.00018999293388333172, 0.00014282703341450542, 0.00011890454334206879, 0.00010833239502971992]\n",
            "loss10_5 : [0.38576623797416687, 0.0020685165654867887, 0.0009157759486697614, 0.0005566927138715982, 0.0003662014496512711, 0.00025741837453097105, 0.00021582658519037068, 0.000163390432135202, 0.00012906824122183025, 0.00010833970736712217]\n",
            "loss10 :  [0.5241808772087098, 0.0019527265802025795, 0.000904096697922796, 0.0005461182736326009, 0.00036720813950523733, 0.0002637360681546852, 0.00020655665430240332, 0.00016338531859219074, 0.00013199720997363328, 0.0001137670551543124]\n",
            "accuracy10_1 : [0.9340000152587891, 1.0, 1.0, 1.0, 1.0, 1.0, 1.0, 1.0, 1.0, 1.0]\n",
            "accuracy10_2 : [0.0, 1.0, 1.0, 1.0, 1.0, 1.0, 1.0, 1.0, 1.0, 1.0]\n",
            "accuracy10_3 : [1.0, 1.0, 1.0, 1.0, 1.0, 1.0, 1.0, 1.0, 1.0, 1.0]\n",
            "accuracy10_4 : [0.6259999871253967, 1.0, 1.0, 1.0, 1.0, 1.0, 1.0, 1.0, 1.0, 1.0]\n",
            "accuracy10_5 : [1.0, 1.0, 1.0, 1.0, 1.0, 1.0, 1.0, 1.0, 1.0, 1.0]\n",
            "accuracy10 :  [0.7120000004768372, 1.0, 1.0, 1.0, 1.0, 1.0, 1.0, 1.0, 1.0, 1.0]\n"
          ]
        }
      ],
      "source": [
        "loss10 = []\n",
        "accuracy10 = []\n",
        "\n",
        "# Calculate average loss\n",
        "for i in range(len(loss10_1)):\n",
        "  loss10.append((loss10_1[i] + loss10_2[i] + loss10_3[i] + loss10_4[i] + loss10_5[i]) / 5)\n",
        "\n",
        "print('loss10_1 :', loss10_1)\n",
        "print('loss10_2 :', loss10_2)\n",
        "print('loss10_3 :', loss10_3)\n",
        "print('loss10_4 :', loss10_4)\n",
        "print('loss10_5 :', loss10_5)\n",
        "print('loss10 : ', loss10)\n",
        "\n",
        "\n",
        "# Calculate average accuracy\n",
        "for i in range(len(accuracy10_1)):\n",
        "  accuracy10.append((accuracy10_1[i] + accuracy10_2[i] + accuracy10_3[i] + accuracy10_4[i] + accuracy10_5[i]) / 5)\n",
        "\n",
        "print('accuracy10_1 :', accuracy10_1)\n",
        "print('accuracy10_2 :', accuracy10_2)\n",
        "print('accuracy10_3 :', accuracy10_3)\n",
        "print('accuracy10_4 :', accuracy10_4)\n",
        "print('accuracy10_5 :', accuracy10_5)\n",
        "print('accuracy10 : ', accuracy10)"
      ]
    },
    {
      "cell_type": "code",
      "execution_count": null,
      "metadata": {
        "colab": {
          "background_save": true
        },
        "id": "--CGz0K0fSNv"
      },
      "outputs": [],
      "source": [
        "loss20_1, accuracy20_1 = run_20_node()\n",
        "loss20_2, accuracy20_2 = run_20_node()\n",
        "loss20_3, accuracy20_3 = run_20_node()\n",
        "loss20_4, accuracy20_4 = run_20_node()\n",
        "loss20_5, accuracy20_5 = run_20_node()"
      ]
    },
    {
      "cell_type": "code",
      "execution_count": null,
      "metadata": {
        "colab": {
          "background_save": true
        },
        "id": "dj4Ry-7DfSFU",
        "outputId": "d871917e-f427-4995-fa60-509b4b753e07"
      },
      "outputs": [
        {
          "name": "stdout",
          "output_type": "stream",
          "text": [
            "loss20_1 : [0.6471055746078491, 0.0015568179078400135, 0.0008365660905838013, 0.0005423100083135068, 0.00035995632060803473, 0.00028690267936326563, 0.00020634863176383078, 0.00017077273514587432, 0.0001370047393720597, 0.00011516952508827671]\n",
            "loss20_2 : [0.6828510165214539, 0.0012950266245752573, 0.0007387339137494564, 0.0004723008314613253, 0.00032786259544081986, 0.00024666046374477446, 0.00018221771460957825, 0.00015150490798987448, 0.00012159991456428543, 0.00010455142182763666]\n",
            "loss20_3 : [0.7344721555709839, 0.0013592911418527365, 0.000728568178601563, 0.0005036165821366012, 0.00034646791755221784, 0.0002587699855212122, 0.00019689470354933292, 0.00016861081530805677, 0.00013549902359955013, 0.00010760941950138658]\n",
            "loss20_4 : [0.21092215180397034, 0.0012910073855891824, 0.0006275949999690056, 0.00036802489194087684, 0.00024876304087229073, 0.0001926148688653484, 0.00014362273213919252, 0.00010938454215647653, 8.968328620539978e-05, 7.34318673494272e-05]\n",
            "loss20_5 : [0.8716517686843872, 0.001782276900485158, 0.0008780426578596234, 0.0005798080819658935, 0.0003972759877797216, 0.00029651232762262225, 0.0002364482934353873, 0.0001916447508847341, 0.0001452067808713764, 0.00012890956713818014]\n",
            "loss20 :  [0.6294005334377288, 0.0014568839920684694, 0.00076190116815269, 0.0004932120791636407, 0.00033606517245061697, 0.0002562920650234446, 0.00019310641509946437, 0.00015838355029700323, 0.00012579874892253428, 0.00010593436018098145]\n",
            "accuracy20_1 : [0.8600000143051147, 1.0, 1.0, 1.0, 1.0, 1.0, 1.0, 1.0, 1.0, 1.0]\n",
            "accuracy20_2 : [0.7979999780654907, 1.0, 1.0, 1.0, 1.0, 1.0, 1.0, 1.0, 1.0, 1.0]\n",
            "accuracy20_3 : [0.0820000022649765, 1.0, 1.0, 1.0, 1.0, 1.0, 1.0, 1.0, 1.0, 1.0]\n",
            "accuracy20_4 : [1.0, 1.0, 1.0, 1.0, 1.0, 1.0, 1.0, 1.0, 1.0, 1.0]\n",
            "accuracy20_5 : [0.2460000067949295, 1.0, 1.0, 1.0, 1.0, 1.0, 1.0, 1.0, 1.0, 1.0]\n",
            "accuracy20 :  [0.5972000002861023, 1.0, 1.0, 1.0, 1.0, 1.0, 1.0, 1.0, 1.0, 1.0]\n"
          ]
        }
      ],
      "source": [
        "loss20 = []\n",
        "accuracy20 = []\n",
        "\n",
        "# Calculate average loss\n",
        "for i in range(len(loss20_1)):\n",
        "  loss20.append((loss20_1[i] + loss20_2[i] + loss20_3[i] + loss20_4[i] + loss20_5[i]) / 5)\n",
        "\n",
        "print('loss20_1 :', loss20_1)\n",
        "print('loss20_2 :', loss20_2)\n",
        "print('loss20_3 :', loss20_3)\n",
        "print('loss20_4 :', loss20_4)\n",
        "print('loss20_5 :', loss20_5)\n",
        "print('loss20 : ', loss20)\n",
        "\n",
        "\n",
        "# Calculate average accuracy\n",
        "for i in range(len(accuracy20_1)):\n",
        "  accuracy20.append((accuracy20_1[i] + accuracy20_2[i] + accuracy20_3[i] + accuracy20_4[i] + accuracy20_5[i]) / 5)\n",
        "\n",
        "print('accuracy20_1 :', accuracy20_1)\n",
        "print('accuracy20_2 :', accuracy20_2)\n",
        "print('accuracy20_3 :', accuracy20_3)\n",
        "print('accuracy20_4 :', accuracy20_4)\n",
        "print('accuracy20_5 :', accuracy20_5)\n",
        "print('accuracy20 : ', accuracy20)"
      ]
    },
    {
      "cell_type": "code",
      "execution_count": null,
      "metadata": {
        "colab": {
          "background_save": true
        },
        "id": "eqh3YLYhthvB",
        "outputId": "549a24f3-7115-4265-8854-f29ec47c05e9"
      },
      "outputs": [
        {
          "data": {
            "image/png": "[encoded data removed]",
            "text/plain": [
              "<Figure size 432x288 with 1 Axes>"
            ]
          },
          "metadata": {},
          "output_type": "display_data"
        }
      ],
      "source": [
        "plt.plot(loss1, label=\"1 devices\")\n",
        "plt.plot(loss2, label=\"2 devices\")\n",
        "plt.plot(loss5, label=\"5 devices\")\n",
        "plt.plot(loss10, label=\"10 devices\")\n",
        "plt.plot(loss20, label=\"20 devices\")\n",
        "plt.xlabel(\"iterations\")\n",
        "plt.ylabel(\"loss value\")\n",
        "plt.legend()\n",
        "plt.title(\"Loss on training data\")\n",
        "plt.show()"
      ]
    },
    {
      "cell_type": "code",
      "execution_count": null,
      "metadata": {
        "colab": {
          "background_save": true
        },
        "id": "0P7og3t2tnpW",
        "outputId": "9aad7100-1ac2-4674-ac80-58997777b322"
      },
      "outputs": [
        {
          "data": {
            "image/png": "[encoded data removed]",
            "text/plain": [
              "<Figure size 432x288 with 1 Axes>"
            ]
          },
          "metadata": {},
          "output_type": "display_data"
        }
      ],
      "source": [
        "plt.plot(accuracy1, label=\"1 device\")\n",
        "plt.plot(accuracy2, label=\"2 devices\")\n",
        "plt.plot(accuracy5, label=\"5 devices\")\n",
        "plt.plot(accuracy10, label=\"10 devices\")\n",
        "plt.plot(accuracy20, label=\"20 devices\")\n",
        "plt.xlabel(\"iterations\")\n",
        "plt.ylabel(\"accuracy\")\n",
        "plt.legend()\n",
        "plt.title(\"accuracy on training data\")\n",
        "plt.show()"
      ]
    },
    {
      "cell_type": "code",
      "execution_count": null,
      "metadata": {
        "colab": {
          "background_save": true
        },
        "id": "CdjgiKEOeTud",
        "outputId": "53117622-938d-4543-dfa5-83cbf284bdad"
      },
      "outputs": [
        {
          "name": "stdout",
          "output_type": "stream",
          "text": [
            "Loss 1 : [0.6004470266401768, 0.05277451081201434, 0.004924656264483929, 0.0014728306676261127, 0.0008070698415394873, 0.0005245895707048475, 0.00037701234978158025, 0.00029022292874287815, 0.00023438627540599554, 0.0001851463850471191]\n",
            "Loss 2 : [0.41247919723391535, 0.00904716863296926, 0.0022497777827084064, 0.0011221055639907718, 0.0007078861002810299, 0.00048708352842368184, 0.00036640273756347594, 0.0002759399067144841, 0.00022912955901119859, 0.0001860461969044991]\n",
            "Loss 5 : [0.6392642855644226, 0.004090693942271173, 0.0012029604869894684, 0.0006755763897672296, 0.00045362666714936494, 0.00033274953602813184, 0.0002503048483049497, 0.00019069837289862335, 0.00015373714559245854, 0.00013122787786414846]\n",
            "Loss 10 : [0.5241808772087098, 0.0019527265802025795, 0.000904096697922796, 0.0005461182736326009, 0.00036720813950523733, 0.0002637360681546852, 0.00020655665430240332, 0.00016338531859219074, 0.00013199720997363328, 0.0001137670551543124]\n",
            "Loss 20: [0.6294005334377288, 0.0014568839920684694, 0.00076190116815269, 0.0004932120791636407, 0.00033606517245061697, 0.0002562920650234446, 0.00019310641509946437, 0.00015838355029700323, 0.00012579874892253428, 0.00010593436018098145]\n",
            "----------\n",
            "Accuracy 1 :  [0.6740000039339066, 0.997599995136261, 1.0, 1.0, 1.0, 1.0, 1.0, 1.0, 1.0, 1.0]\n",
            "Accuracy 2 :  [0.640800005197525, 1.0, 1.0, 1.0, 1.0, 1.0, 1.0, 1.0, 1.0, 1.0]\n",
            "Accuracy 5 :  [0.5259999990463257, 1.0, 1.0, 1.0, 1.0, 1.0, 1.0, 1.0, 1.0, 1.0]\n",
            "Accuracy 10 :  [0.7120000004768372, 1.0, 1.0, 1.0, 1.0, 1.0, 1.0, 1.0, 1.0, 1.0]\n",
            "Accuracy 20:  [0.5972000002861023, 1.0, 1.0, 1.0, 1.0, 1.0, 1.0, 1.0, 1.0, 1.0]\n"
          ]
        }
      ],
      "source": [
        "print(\"Loss 1 :\", loss1)\n",
        "print(\"Loss 2 :\", loss2)\n",
        "print(\"Loss 5 :\", loss5)\n",
        "print(\"Loss 10 :\", loss10)\n",
        "print(\"Loss 20:\", loss20)\n",
        "print(\"-\"*10)\n",
        "print(\"Accuracy 1 : \", accuracy1)\n",
        "print(\"Accuracy 2 : \", accuracy2)\n",
        "print(\"Accuracy 5 : \", accuracy5)\n",
        "print(\"Accuracy 10 : \", accuracy10)\n",
        "print(\"Accuracy 20: \", accuracy20)"
      ]
    },
    {
      "cell_type": "code",
      "execution_count": null,
      "metadata": {
        "colab": {
          "background_save": true
        },
        "id": "kV2-_gbKdYCd"
      },
      "outputs": [],
      "source": [
        ""
      ]
    }
  ],
  "metadata": {
    "colab": {
      "collapsed_sections": [],
      "name": "Experiment1-TFQ_Example_BinaryClassifier.ipynb",
      "provenance": []
    },
    "kernelspec": {
      "display_name": "Python 3",
      "name": "python3"
    }
  },
  "nbformat": 4,
  "nbformat_minor": 0
}